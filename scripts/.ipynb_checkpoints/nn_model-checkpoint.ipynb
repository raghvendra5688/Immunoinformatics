{
 "cells": [
  {
   "cell_type": "code",
   "execution_count": null,
   "id": "7a62abe9",
   "metadata": {},
   "outputs": [],
   "source": [
    "import os\n",
    "import pickle\n",
    "import re\n",
    "import pandas as pd\n",
    "import numpy as np\n",
    "import matplotlib.pyplot as plt\n",
    "import seaborn as sn\n",
    "import numpy as np\n",
    "import re \n",
    "\n",
    "import xgboost as xgb\n",
    "from sklearn import ensemble\n",
    "from sklearn import dummy\n",
    "from sklearn import linear_model\n",
    "from sklearn import svm\n",
    "from sklearn import neural_network\n",
    "from sklearn import metrics\n",
    "from sklearn import preprocessing\n",
    "from sklearn.pipeline import make_pipeline\n",
    "from sklearn.model_selection import train_test_split\n",
    "from sklearn.utils.fixes import loguniform\n",
    "import scipy\n",
    "import argparse\n",
    "\n",
    "from misc import save_model, load_model, regression_results, grid_search_cv, supervised_learning_steps, calculate_regression_metrics\n",
    "plt.rcParams[\"font.family\"] = \"Arial\""
   ]
  },
  {
   "cell_type": "code",
   "execution_count": null,
   "id": "38a22d37",
   "metadata": {},
   "outputs": [],
   "source": [
    "#Get the setting with different X_trains and X_tests\n",
    "train_options = [\"../Data/dose_response_with_full_data_inflammasome_with_ls_train.pkl\",\n",
    "                 \"../Data/dose_response_with_full_data_inflammasome_with_mfp_train.pkl\",\n",
    "                 \"..\"]\n",
    "test_options = [\"../Data/dose_response_with_full_data_inflammasome_with_ls_test.pkl\",\n",
    "                \"../Data/dose_response_with_full_data_inflammasome_with_mfp_test.pkl\",\n",
    "                \"..\"]\n",
    "data_type_options = [\"LS_LS\",\"MFP_LS\"]"
   ]
  },
  {
   "cell_type": "code",
   "execution_count": null,
   "id": "26f9fd7f",
   "metadata": {},
   "outputs": [],
   "source": [
    "#Choose the options\n",
    "input_option = 0                                                  #Choose 0 for LS for Drug and LS for Cell Line , 1 for MFP for Drug and LS for Cell Line \n",
    "classification_task = False\n",
    "data_type = data_type_options[input_option]\n",
    "\n",
    "#Get the data for your choice: LS or MFP\n",
    "print(\"Loaded training file\")\n",
    "big_train_df = pd.read_pickle(train_options[input_option],compression=\"zip\")\n",
    "big_test_df = pd.read_pickle(test_options[input_option],compression=\"zip\")\n",
    "total_length = len(big_train_df.columns)\n",
    "metadata_X_train, X_train, Y_train = big_train_df.loc[:,['ARXSPAN_ID','DRUG_NAME']], big_train_df.iloc[:, range(16,total_length)], big_train_df[\"y_ic50\"].to_numpy().flatten()\n",
    "metadata_X_test, X_test, Y_test = big_test_df.loc[:,['ARXSPAN_ID','DRUG_NAME']], big_test_df.iloc[:,range(16,total_length)], big_test_df[\"y_ic50\"].to_numpy().flatten()"
   ]
  },
  {
   "cell_type": "code",
   "execution_count": null,
   "id": "3bd9a531",
   "metadata": {},
   "outputs": [],
   "source": [
    "#Build the Neural Network model\n",
    "model = neural_network.MLPRegressor(activation='identity', solver='adam', alpha=1e-5, batch_size=2056, max_iter=1000, random_state=42, tol=1e-4, shuffle=False, verbose=False, warm_start=False, early_stopping=False,\n",
    "                                    beta_2=0.999, epsilon=1e-08, n_iter_no_change=50, validation_fraction=0.2)\n",
    "# Grid parameters\n",
    "params_nn = {\n",
    "        \"hidden_layer_sizes\": [(256,64), (512, 128, 32), (256, 128, 64)],\n",
    "        \"alpha\": loguniform(1e-8,1e-2),\n",
    "        \"learning_rate_init\" : loguniform(1e-4,1e-3),\n",
    "        \"beta_1\" : [0.7,0.8,0.9]\n",
    "}   \n",
    "\n",
    "        \n",
    "#It will select 200 random combinations for the CV and do 5-fold CV for each combination\n",
    "n_iter = 100\n",
    "scaler = preprocessing.StandardScaler()\n",
    "X_train_copy = scaler.fit_transform(X_train)\n",
    "nn_gs=supervised_learning_steps(\"nn\",\"r2\",data_type,classification_task,model,params_nn,X_train_copy,Y_train,n_iter=n_iter,n_splits=5)\n",
    "        \n",
    "#Build the model and get 5-fold CV results    \n",
    "print(nn_gs.cv_results_)\n",
    "save_model(scaler, \"%s_models/%s_%s_scaling_gs.pk\" % (\"nn\",\"nn\",data_type))"
   ]
  },
  {
   "cell_type": "code",
   "execution_count": null,
   "id": "d84cdcc4",
   "metadata": {},
   "outputs": [],
   "source": [
    "#Test the linear regression model on separate test set   \n",
    "nn_gs = load_model(\"nn_models/nn_\"+data_type+\"_regressor_gs.pk\")\n",
    "scaler = load_model(\"nn_models/nn_\"+data_type+\"_scaling_gs.pk\")\n",
    "np.max(nn_gs.cv_results_[\"mean_test_score\"])\n",
    "nn_best = nn_gs.best_estimator_\n",
    "y_pred_nn=nn_best.predict(scaler.transform(X_test))\n",
    "test_metrics = calculate_regression_metrics(Y_test,y_pred_nn)\n",
    "print(test_metrics)\n",
    "\n",
    "#Write the prediction of NN model\n",
    "metadata_X_test['predictions']=y_pred_nn\n",
    "metadata_X_test['labels']=Y_test\n",
    "metadata_X_test.to_csv(\"../results/NN_\"+data_type+\"_supervised_test_predictions.csv\",index=False)\n",
    "print(\"Finished writing predictions\")\n",
    "\n",
    "fig = plt.figure()\n",
    "plt.style.use('classic')\n",
    "fig.set_size_inches(2.5,2.5)\n",
    "fig.set_dpi(300)\n",
    "fig.set_facecolor(\"white\")\n",
    "\n",
    "ax = sn.regplot(x=\"labels\", y=\"predictions\", data=metadata_X_test, scatter_kws={\"color\": \"lightblue\",'alpha':0.5}, \n",
    "                line_kws={\"color\": \"red\"})\n",
    "ax.axes.set_title(\"NN Predictions (LS + LS)\",fontsize=10)\n",
    "ax.set_xlim(-5, 5)\n",
    "ax.set_ylim(-4, 4)\n",
    "ax.set_xlabel(\"\",fontsize=10)\n",
    "ax.set_ylabel(\"\",fontsize=10)\n",
    "ax.tick_params(labelsize=10, color=\"black\")\n",
    "plt.text(-4, 3, 'Pearson r =' +str(test_metrics[3]), fontsize = 10)\n",
    "plt.text(-4, 2, 'MAE ='+str(test_metrics[0]),fontsize=10)\n",
    "outfilename = \"../results/NN_\"+data_type+\"_supervised_test_prediction.pdf\"\n",
    "plt.savefig(outfilename, bbox_inches=\"tight\")"
   ]
  },
  {
   "cell_type": "code",
   "execution_count": null,
   "id": "b1c8a425",
   "metadata": {},
   "outputs": [],
   "source": [
    "plt.plot(nn_gs.best_estimator_.loss_curve_)"
   ]
  },
  {
   "cell_type": "code",
   "execution_count": null,
   "id": "42cf96f7",
   "metadata": {},
   "outputs": [],
   "source": []
  }
 ],
 "metadata": {
  "jupytext": {
   "formats": "ipynb,py:light"
  },
  "kernelspec": {
   "display_name": "Python 3 (ipykernel)",
   "language": "python",
   "name": "python3"
  }
 },
 "nbformat": 4,
 "nbformat_minor": 5
}
