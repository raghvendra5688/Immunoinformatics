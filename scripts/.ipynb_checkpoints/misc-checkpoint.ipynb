{
 "cells": [
  {
   "cell_type": "code",
   "execution_count": null,
   "id": "bec8dbba",
   "metadata": {},
   "outputs": [],
   "source": [
    "import os\n",
    "import pickle\n",
    "import numpy as np\n",
    "from sklearn import metrics\n",
    "from sklearn import utils\n",
    "from sklearn import model_selection\n",
    "import scipy\n",
    "import xgboost as xgb\n",
    "import matplotlib.pyplot as plt"
   ]
  },
  {
   "cell_type": "code",
   "execution_count": null,
   "id": "7d074e89",
   "metadata": {},
   "outputs": [],
   "source": [
    "def save_model(model, filename):\n",
    "\n",
    "    outpath = os.path.join(\"../Models/\", filename)\n",
    "\n",
    "    with open(outpath, \"wb\") as f:\n",
    "        pickle.dump(model, f)\n",
    "\n",
    "    print(\"Saved model to file: %s\" % (outpath))"
   ]
  },
  {
   "cell_type": "code",
   "execution_count": null,
   "id": "f9b179a3",
   "metadata": {},
   "outputs": [],
   "source": [
    "def load_model(filename):\n",
    "\n",
    "    fpath = os.path.join(\"../Models/\", filename)\n",
    "\n",
    "    with open(fpath, \"rb\") as f:\n",
    "        model = pickle.load(f)\n",
    "\n",
    "    print(\"Load model to file: %s\" % (fpath))\n",
    "    return model"
   ]
  },
  {
   "cell_type": "code",
   "execution_count": null,
   "id": "4d30c649",
   "metadata": {},
   "outputs": [],
   "source": [
    "def regression_results(model, y_true, y_pred):\n",
    "    \"\"\"\n",
    "    This function prints and plots the confusion matrix.\n",
    "    Normalization can be applied by setting `normalize=True`.\n",
    "    \"\"\"\n",
    "    print(\"-\" * 80)\n",
    "    print(\"Model: %s\" % (model))\n",
    "    print(\"-\" * 80)\n",
    "    results = []\n",
    "    for metric in [metrics.mean_squared_error, metrics.mean_squared_log_error, metrics.mean_absolute_error,\n",
    "                   metrics.explained_variance_score, metrics.median_absolute_error, metrics.r2_score]:\n",
    "\n",
    "        res = metric(y_true, y_pred)\n",
    "        results.append(res)\n",
    "        print(\"%s: %.3f\" % (metric.__name__, res))\n",
    "    res = scipy.stats.pearsonr(np.array(y_true),np.array(y_pred))[0]\n",
    "    results.append(res)\n",
    "    print(\"Pearson R: %.3f\" %(res))\n",
    "\n",
    "    print(\"=\" * 80)\n",
    "    return results"
   ]
  },
  {
   "cell_type": "code",
   "execution_count": null,
   "id": "d8d94a4e",
   "metadata": {},
   "outputs": [],
   "source": [
    "def calculate_regression_metrics(labels, predictions):\n",
    "    return round(metrics.mean_absolute_error(labels, predictions),3),\\\n",
    "            round(metrics.mean_squared_error(labels, predictions, squared=False),3),\\\n",
    "            round(np.power(scipy.stats.pearsonr(np.array(labels).flatten(),np.array(predictions.flatten()))[0],2),3),\\\n",
    "            round(scipy.stats.pearsonr(np.array(labels).flatten(),np.array(predictions.flatten()))[0],3),\\\n",
    "            round(scipy.stats.spearmanr(np.array(labels).flatten(),np.array(predictions.flatten()))[0],3)"
   ]
  },
  {
   "cell_type": "code",
   "execution_count": null,
   "id": "f7980335",
   "metadata": {},
   "outputs": [],
   "source": [
    "def get_CV_results (model, X_train, Y_train, n_splits):\n",
    "    kf = KFold(n_splits=n_splits)\n",
    "    mae_list, rmse_list, r2_list, pr_list, sr_list = [],[],[],[],[]\n",
    "    for train_index, test_index in kf.split(Y_train):\n",
    "        y_pred = model.best_estimator_.predict(X_train.iloc[test_index,:])\n",
    "        results=calculate_regression_metrics(Y_train[test_index],y_pred)\n",
    "        mae_list.append(results[0])\n",
    "        rmse_list.append(results[1])\n",
    "        r2_list.append(results[2])\n",
    "        pr_list.append(results[3])\n",
    "        sr_list.append(results[4])\n",
    "    print(mae_list,rmse_list,r2_list)\n",
    "    mean_mae, sd_mae = round(np.mean(mae_list),3), round(np.std(mae_list),3)\n",
    "    mean_rmse, sd_rmse = round(np.mean(rmse_list),3), round(np.std(rmse_list),3)\n",
    "    mean_r2, sd_r2 = round(np.mean(r2_list),3), round(np.std(r2_list),3)\n",
    "    mean_pr, sd_pr = round(np.mean(pr_list),3), round(np.std(pr_list),3)\n",
    "    mean_sr, sd_sr = round(np.mean(sr_list),3), round(np.std(sr_list),3)\n",
    "    return(mean_mae, sd_mae, mean_rmse, sd_rmse, mean_r2, sd_r2, mean_pr, sd_pr, mean_sr, sd_sr)"
   ]
  },
  {
   "cell_type": "code",
   "execution_count": null,
   "id": "2cf20ffe",
   "metadata": {},
   "outputs": [],
   "source": [
    "def supervised_learning_steps(method, scoring, data_type, task, model, params, X_train, y_train, n_iter, n_splits = 5):\n",
    "    \n",
    "    gs = grid_search_cv(model, params, X_train, y_train, scoring=scoring, n_iter = n_iter, n_splits = n_splits)\n",
    "\n",
    "    y_pred = gs.predict(X_train)\n",
    "    y_pred[y_pred < 0] = 0\n",
    "\n",
    "    if task:\n",
    "        results=calculate_classification_metrics(y_train, y_pred)\n",
    "        print(\"Acc: %.3f, F1: %.3f, AUC: %.3f, AUPR: %.3f\" % (results[0], results[1], results[2], results[3]))\n",
    "    else:\n",
    "        results=calculate_regression_metrics(y_train,y_pred)\n",
    "        print(\"MAE: %.3f, MSE: %.3f, R2: %.3f, Pearson R: %.3f, Spearman R: %.3f\" % (results[0], results[1], results[2], results[3], results[4]))\n",
    "   \n",
    "    print('Parameters')\n",
    "    print('----------')\n",
    "    for p,v in gs.best_estimator_.get_params().items():\n",
    "        print(p, \":\", v)\n",
    "    print('-' * 80)\n",
    "\n",
    "    if task:\n",
    "        save_model(gs, \"%s_models/%s_%s_classifier_gs.pk\" % (method,method,data_type))\n",
    "        save_model(gs.best_estimator_, \"%s_models/%s_%s_classifier_best_estimator.pk\" %(method,method,data_type))\n",
    "    else:\n",
    "        save_model(gs, \"%s_models/%s_%s_regressor_gs.pk\" % (method,method,data_type))\n",
    "        save_model(gs.best_estimator_, \"%s_models/%s_%s_regressor_best_estimator.pk\" %(method,method,data_type))\n",
    "    return(gs)"
   ]
  },
  {
   "cell_type": "code",
   "execution_count": null,
   "id": "6a456455",
   "metadata": {},
   "outputs": [],
   "source": [
    "def grid_search_cv(model, parameters, X_train, y_train, n_splits=5, n_iter=1000, n_jobs=-1, scoring=\"r2\", stratified=False):\n",
    "    \"\"\"\n",
    "        Tries all possible values of parameters and returns the best regressor/classifier.\n",
    "        Cross Validation done is stratified.\n",
    "        See scoring options at https://scikit-learn.org/stable/modules/model_evaluation.html#scoring-parameter\n",
    "    \"\"\"\n",
    "\n",
    "    # Stratified n_splits Folds. Shuffle is not needed as X and Y were already shuffled before.\n",
    "    if stratified:\n",
    "        cv = model_selection.StratifiedKFold(n_splits=n_splits, shuffle=False, random_state=42)\n",
    "    else:\n",
    "        cv = n_splits\n",
    "\n",
    "    rev_model = model_selection.RandomizedSearchCV(estimator=model, param_distributions=parameters, cv=cv, scoring=scoring, n_iter=n_iter, n_jobs=n_jobs, random_state=0, verbose=2)\n",
    "    if (model==\"xgb\"):\n",
    "        xgbtrain = xgb.DMatrix(X_train, Y_train)\n",
    "        output = rev_model.fit(xgbtrain)\n",
    "        rm(xgbtrain)\n",
    "        gc()\n",
    "        return output    \n",
    "    else:\n",
    "        return rev_model.fit(X_train, y_train)"
   ]
  },
  {
   "cell_type": "code",
   "execution_count": null,
   "id": "2fcb5fb4",
   "metadata": {},
   "outputs": [],
   "source": []
  }
 ],
 "metadata": {
  "jupytext": {
   "cell_metadata_filter": "-all",
   "formats": "auto:light,ipynb",
   "main_language": "python",
   "notebook_metadata_filter": "-all"
  },
  "kernelspec": {
   "display_name": "Python 3 (ipykernel)",
   "language": "python",
   "name": "python3"
  },
  "language_info": {
   "codemirror_mode": {
    "name": "ipython",
    "version": 3
   },
   "file_extension": ".py",
   "mimetype": "text/x-python",
   "name": "python",
   "nbconvert_exporter": "python",
   "pygments_lexer": "ipython3",
   "version": "3.11.0"
  }
 },
 "nbformat": 4,
 "nbformat_minor": 5
}
