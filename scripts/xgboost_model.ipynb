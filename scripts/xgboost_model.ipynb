{
 "cells": [
  {
   "cell_type": "code",
   "execution_count": 1,
   "id": "62c3de69",
   "metadata": {},
   "outputs": [],
   "source": [
    "import os\n",
    "import pickle\n",
    "import re\n",
    "import pandas as pd\n",
    "import numpy as np\n",
    "import matplotlib.pyplot as plt\n",
    "import seaborn as sn\n",
    "import numpy as np\n",
    "import re \n",
    "\n",
    "import xgboost as xgb\n",
    "from sklearn import ensemble\n",
    "from sklearn import dummy\n",
    "from sklearn import linear_model\n",
    "from sklearn import svm\n",
    "from sklearn import neural_network\n",
    "from sklearn import metrics\n",
    "from sklearn import preprocessing\n",
    "from sklearn.pipeline import make_pipeline\n",
    "from sklearn.model_selection import train_test_split\n",
    "from sklearn.utils.fixes import loguniform\n",
    "import scipy\n",
    "import argparse\n",
    "from scipy.stats import randint\n",
    "\n",
    "from misc import save_model, load_model, regression_results, grid_search_cv, supervised_learning_steps, regression_results, calculate_regression_metrics"
   ]
  },
  {
   "cell_type": "code",
   "execution_count": 2,
   "id": "de01faf6",
   "metadata": {},
   "outputs": [],
   "source": [
    "#Get the setting with different X_trains and X_tests\n",
    "train_options = [\"../Data/Training_Set_with_Drug_Embedding_Cell_Info.pkl\",\n",
    "                 \"../Data/Training_Set_with_Drug_MFP_Cell_Info.pkl\",\n",
    "                 \"..\"]\n",
    "test_options = [\"../Data/Test_Set_with_Drug_Embedding_Cell_Info.pkl\",\n",
    "                \"../Data/Test_Set_with_Drug_MFP_Cell_Info.pkl\",\n",
    "                \"..\"]\n",
    "data_type_options = [\"LS_Feat\",\"MFP_Feat\"]"
   ]
  },
  {
   "cell_type": "code",
   "execution_count": 3,
   "id": "7dabbd09",
   "metadata": {},
   "outputs": [
    {
     "name": "stdout",
     "output_type": "stream",
     "text": [
      "Loaded training file\n",
      "Shape of training set after removing non-numeric cols\n",
      "(34387, 2205)\n",
      "(19184, 2205)\n",
      "Shape of training set after removing cols with NaNs\n",
      "(34387, 2192)\n",
      "(19184, 2192)\n"
     ]
    },
    {
     "data": {
      "text/plain": [
       "(array([1.005e+04, 9.131e+03, 1.000e+00, 0.000e+00, 0.000e+00, 0.000e+00,\n",
       "        0.000e+00, 0.000e+00, 0.000e+00, 2.000e+00]),\n",
       " array([1.3700000e-03, 5.0012330e+00, 1.0001096e+01, 1.5000959e+01,\n",
       "        2.0000822e+01, 2.5000685e+01, 3.0000548e+01, 3.5000411e+01,\n",
       "        4.0000274e+01, 4.5000137e+01, 5.0000000e+01]),\n",
       " <BarContainer object of 10 artists>)"
      ]
     },
     "execution_count": 3,
     "metadata": {},
     "output_type": "execute_result"
    },
    {
     "data": {
      "image/png": "[encoded data removed]",
      "text/plain": [
       "<Figure size 640x480 with 1 Axes>"
      ]
     },
     "metadata": {},
     "output_type": "display_data"
    }
   ],
   "source": [
    "#Choose the options\n",
    "input_option = 1                                                  #Choose 0 for LS for Drug and LS for Cell Line , 1 for MFP for Drug and LS for Cell Line \n",
    "classification_task = False\n",
    "data_type = data_type_options[input_option]\n",
    "\n",
    "#Get the data for your choice: LS or MFP\n",
    "print(\"Loaded training file\")\n",
    "big_train_df = pd.read_pickle(train_options[input_option],compression=\"zip\")\n",
    "big_test_df = pd.read_pickle(test_options[input_option],compression=\"zip\")\n",
    "total_length = len(big_train_df.columns)\n",
    "if (input_option==0):\n",
    "    #Consider only those columns which have numeric values\n",
    "    metadata_X_train,X_train, Y_train = big_train_df.loc[:,[\"dbgap_rnaseq_sample\",\"inhibitor\"]], big_train_df.iloc[:,[1,4]+[*range(6,262,1)]+[*range(288,total_length,1)]], big_train_df[\"ic50\"].to_numpy().flatten()\n",
    "    metadata_X_test,X_test, Y_test = big_test_df.loc[:,[\"dbgap_rnaseq_sample\",\"inhibitor\"]], big_test_df.iloc[:,[1,4]+[*range(6,262,1)]+[*range(288,total_length,1)]], big_test_df[\"ic50\"].to_numpy().flatten()\n",
    "elif (input_option==1):\n",
    "    metadata_X_train,X_train, Y_train = big_train_df.loc[:,[\"dbgap_rnaseq_sample\",\"inhibitor\"]], big_train_df.iloc[:,[1,4]+[*range(6,1030,1)]+[*range(1056,total_length,1)]], big_train_df[\"ic50\"].to_numpy().flatten()\n",
    "    metadata_X_test,X_test, Y_test = big_test_df.loc[:,[\"dbgap_rnaseq_sample\",\"inhibitor\"]], big_test_df.iloc[:,[1,4]+[*range(6,1030,1)]+[*range(1056,total_length,1)]], big_test_df[\"ic50\"].to_numpy().flatten()\n",
    "\n",
    "#Keep only numeric training and test set and those which have no Nans\n",
    "X_train_numerics_only = X_train.select_dtypes(include=np.number)\n",
    "X_test_numerics_only = X_test[X_train_numerics_only.columns]\n",
    "print(\"Shape of training set after removing non-numeric cols\")\n",
    "print(X_train_numerics_only.shape)\n",
    "print(X_test_numerics_only.shape)\n",
    "\n",
    "\n",
    "nan_cols = [i for i in X_train_numerics_only.columns if X_train_numerics_only[i].isnull().any()]\n",
    "rev_X_train = X_train_numerics_only.drop(nan_cols,axis=1)\n",
    "rev_X_test = X_test_numerics_only.drop(nan_cols,axis=1)\n",
    "print(\"Shape of training set after removing cols with NaNs\")\n",
    "print(rev_X_train.shape)\n",
    "print(rev_X_test.shape)\n",
    "plt.hist(Y_train)\n",
    "plt.hist(Y_test)"
   ]
  },
  {
   "cell_type": "code",
   "execution_count": null,
   "id": "4d365d16",
   "metadata": {},
   "outputs": [],
   "source": [
    "#Build the Xgboost Regression model\n",
    "model = xgb.XGBRegressor(tree_method = \"hist\",random_state=0, n_jobs=64, objective=\"reg:squarederror\")\n",
    "\n",
    "# Grid parameters\n",
    "params_xgb = {\n",
    "        \"n_estimators\": [100, 200, 400], #scipy.stats.randint(20, 500),\n",
    "        \"max_depth\": [5, 7, 9, 11, 13], #scipy.stats.randint(1, 9),\n",
    "        \"gamma\": [1e-2, 1e-1, 1], #loguniform(1e-8, 1.0),\n",
    "        \"min_child_weight\": [2, 6, 10, 14],#scipy.stats.randint(1, 10),\n",
    "        \"learning_rate\": [1e-4, 1e-3, 1e-2, 1e-1], #loguniform(1e-4, 1e-1),\n",
    "        \"subsample\": [0.8, 1.0], #loguniform(0.8, 1e0),\n",
    "        \"colsample_bytree\": [0.1, 0.3, 0.5, 0.7],\n",
    "        \"reg_alpha\": [0.1, 0.5, 1, 5], #loguniform(1e-1, 1e1),\n",
    "        \"reg_lambda\": [1, 2, 4, 8], #loguniform(1, 1e1)\n",
    "}   \n",
    "\n",
    "        \n",
    "#It will select 200 random combinations for the CV and do 5-fold CV for each combination\n",
    "n_iter = 100\n",
    "xgb_gs=supervised_learning_steps(\"xgb\",\"r2\",data_type,classification_task,model,params_xgb,rev_X_train,Y_train,n_iter=n_iter,n_splits=5)\n",
    "        \n",
    "#Build the model and get 5-fold CV results    \n",
    "print(xgb_gs.cv_results_)"
   ]
  },
  {
   "cell_type": "code",
   "execution_count": null,
   "id": "9ee39195",
   "metadata": {},
   "outputs": [],
   "source": [
    "#Test the linear regression model on separate test set  \n",
    "xgb_gs = load_model(\"xgb_models/xgb_\"+data_type+\"_regressor_gs.pk\")\n",
    "np.max(xgb_gs.cv_results_[\"mean_test_score\"])\n",
    "xgb_best = xgb_gs.best_estimator_\n",
    "y_pred_xgb=xgb_best.predict(rev_X_test)\n",
    "test_metrics = calculate_regression_metrics(Y_test,y_pred_xgb)\n",
    "print(test_metrics)\n",
    "\n",
    "#Write the prediction of LR model\n",
    "metadata_X_test['predictions']=y_pred_xgb\n",
    "metadata_X_test['labels']=Y_test\n",
    "metadata_X_test.to_csv(\"../Results/XGB_\"+data_type+\"_supervised_test_predictions.csv\",index=False)\n",
    "print(\"Finished writing predictions\")\n",
    "\n",
    "fig = plt.figure()\n",
    "plt.style.use('classic')\n",
    "fig.set_size_inches(2.5,2.5)\n",
    "fig.set_dpi(300)\n",
    "fig.set_facecolor(\"white\")\n",
    "\n",
    "ax = sn.regplot(x=\"labels\", y=\"predictions\", data=metadata_X_test, scatter_kws={\"color\": \"lightblue\",'alpha':0.5}, \n",
    "                line_kws={\"color\": \"red\"})\n",
    "ax.axes.set_title(\"XGB Predictions (MFP + LS)\",fontsize=10)\n",
    "ax.set_xlim(0, 12)\n",
    "ax.set_ylim(0, 12)\n",
    "ax.set_xlabel(\"\",fontsize=10)\n",
    "ax.set_ylabel(\"\",fontsize=10)\n",
    "ax.tick_params(labelsize=10, color=\"black\")\n",
    "plt.text(-4, 3, 'Pearson r =' +str(test_metrics[3]), fontsize = 10)\n",
    "plt.text(-4, 2, 'MAE ='+str(test_metrics[0]),fontsize=10)\n",
    "outfilename = \"../Results/XGB_\"+data_type+\"_supervised_test_prediction.pdf\"\n",
    "plt.savefig(outfilename, bbox_inches=\"tight\")"
   ]
  },
  {
   "cell_type": "code",
   "execution_count": null,
   "id": "5ebdc738",
   "metadata": {},
   "outputs": [],
   "source": [
    "#Get the most important variables and their feature importance scores\n",
    "xgb_best = load_model(\"xgb_models/xgb_\"+data_type+\"_regressor_best_estimator.pk\")\n",
    "val, index = np.sort(xgb_best.feature_importances_), np.argsort(xgb_best.feature_importances_)\n",
    "fig = plt.figure()\n",
    "plt.style.use('classic')\n",
    "fig.set_size_inches(4,3)\n",
    "fig.set_dpi(300)\n",
    "fig.set_facecolor(\"white\")\n",
    "\n",
    "ax = fig.add_subplot(111)\n",
    "plt.bar(rev_X_train.columns[index[-20:]],val[-20:])\n",
    "plt.xticks(rotation = 90) # Rotates X-Axis Ticks by 45-degrees\n",
    "\n",
    "ax.axes.set_title(\"Top XGB VI (MFP + LS)\",fontsize=9)\n",
    "ax.set_xlabel(\"Features\",fontsize=9)\n",
    "ax.set_ylabel(\"VI Value\",fontsize=9)\n",
    "ax.tick_params(labelsize=9)\n",
    "outputfile = \"../Results/XGB_\"+data_type+\"_Coefficients.pdf\"\n",
    "plt.savefig(outputfile, bbox_inches=\"tight\")"
   ]
  },
  {
   "cell_type": "code",
   "execution_count": null,
   "id": "fd1b1da6",
   "metadata": {},
   "outputs": [],
   "source": []
  }
 ],
 "metadata": {
  "jupytext": {
   "formats": "ipynb,auto:light"
  },
  "kernelspec": {
   "display_name": "Python 3 (ipykernel)",
   "language": "python",
   "name": "python3"
  },
  "language_info": {
   "codemirror_mode": {
    "name": "ipython",
    "version": 3
   },
   "file_extension": ".py",
   "mimetype": "text/x-python",
   "name": "python",
   "nbconvert_exporter": "python",
   "pygments_lexer": "ipython3",
   "version": "3.11.0"
  }
 },
 "nbformat": 4,
 "nbformat_minor": 5
}
