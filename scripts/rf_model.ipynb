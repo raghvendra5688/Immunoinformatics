{
 "cells": [
  {
   "cell_type": "code",
   "execution_count": null,
   "id": "980e9da5",
   "metadata": {},
   "outputs": [],
   "source": [
    "import os\n",
    "import pickle\n",
    "import re\n",
    "import pandas as pd\n",
    "import numpy as np\n",
    "import matplotlib.pyplot as plt\n",
    "import seaborn as sn\n",
    "import numpy as np\n",
    "import re \n",
    "\n",
    "import xgboost as xgb\n",
    "from sklearn import ensemble\n",
    "from sklearn import dummy\n",
    "from sklearn import linear_model\n",
    "from sklearn import svm\n",
    "from sklearn import neural_network\n",
    "from sklearn import metrics\n",
    "from sklearn import preprocessing\n",
    "from sklearn.pipeline import make_pipeline\n",
    "from sklearn.model_selection import train_test_split\n",
    "from sklearn.utils.fixes import loguniform\n",
    "import scipy\n",
    "import argparse\n",
    "from scipy.stats import randint\n",
    "\n",
    "from misc import save_model, load_model, regression_results, grid_search_cv, supervised_learning_steps, regression_results, calculate_regression_metrics"
   ]
  },
  {
   "cell_type": "code",
   "execution_count": null,
   "id": "81f691b5",
   "metadata": {},
   "outputs": [],
   "source": [
    "#Get the setting with different X_trains and X_tests\n",
    "train_options = [\"../Data/Training_Set_with_Drug_Embedding_Cell_Info.pkl\",\n",
    "                 \"../Data/Training_Set_with_Drug_MFP_Cell_Info.pkl\",\n",
    "                 \"..\"]\n",
    "test_options = [\"../Data/Test_Set_with_Drug_Embedding_Cell_Info.pkl\",\n",
    "                \"../Data/Test_Set_with_Drug_MFP_Cell_Info.pkl\",\n",
    "                \"..\"]\n",
    "data_type_options = [\"LS_Feat\",\"MFP_Feat\"]"
   ]
  },
  {
   "cell_type": "code",
   "execution_count": null,
   "id": "26365bad",
   "metadata": {},
   "outputs": [],
   "source": [
    "#Choose the options\n",
    "input_option = 1                                                  #Choose 0 for LS for Drug and LS for Cell Line , 1 for MFP for Drug and LS for Cell Line \n",
    "classification_task = False\n",
    "data_type = data_type_options[input_option]\n",
    "\n",
    "#Get the data for your choice: LS or MFP\n",
    "print(\"Loaded training file\")\n",
    "big_train_df = pd.read_pickle(train_options[input_option],compression=\"zip\")\n",
    "big_test_df = pd.read_pickle(test_options[input_option],compression=\"zip\")\n",
    "total_length = len(big_train_df.columns)\n",
    "if (input_option==0):\n",
    "    #Consider only those columns which have numeric values\n",
    "    metadata_X_train,X_train, Y_train = big_train_df.loc[:,[\"dbgap_rnaseq_sample\",\"inhibitor\"]], big_train_df.iloc[:,[1,4]+[*range(6,262,1)]+[*range(288,total_length,1)]], big_train_df[\"auc\"].to_numpy().flatten()\n",
    "    metadata_X_test,X_test, Y_test = big_test_df.loc[:,[\"dbgap_rnaseq_sample\",\"inhibitor\"]], big_test_df.iloc[:,[1,4]+[*range(6,262,1)]+[*range(288,total_length,1)]], big_test_df[\"auc\"].to_numpy().flatten()\n",
    "elif (input_option==1):\n",
    "    metadata_X_train,X_train, Y_train = big_train_df.loc[:,[\"dbgap_rnaseq_sample\",\"inhibitor\"]], big_train_df.iloc[:,[1,4]+[*range(6,1030,1)]+[*range(1056,total_length,1)]], big_train_df[\"auc\"].to_numpy().flatten()\n",
    "    metadata_X_test,X_test, Y_test = big_test_df.loc[:,[\"dbgap_rnaseq_sample\",\"inhibitor\"]], big_test_df.iloc[:,[1,4]+[*range(6,1030,1)]+[*range(1056,total_length,1)]], big_test_df[\"auc\"].to_numpy().flatten()\n",
    "\n",
    "#Keep only numeric training and test set and those which have no Nans\n",
    "X_train_numerics_only = X_train.select_dtypes(include=np.number)\n",
    "X_test_numerics_only = X_test[X_train_numerics_only.columns]\n",
    "print(\"Shape of training set after removing non-numeric cols\")\n",
    "print(X_train_numerics_only.shape)\n",
    "print(X_test_numerics_only.shape)\n",
    "\n",
    "\n",
    "nan_cols = [i for i in X_train_numerics_only.columns if X_train_numerics_only[i].isnull().any()]\n",
    "rev_X_train = X_train_numerics_only.drop(nan_cols,axis=1)\n",
    "rev_X_test = X_test_numerics_only.drop(nan_cols,axis=1)\n",
    "print(\"Shape of training set after removing cols with NaNs\")\n",
    "print(rev_X_train.shape)\n",
    "print(rev_X_test.shape)"
   ]
  },
  {
   "cell_type": "code",
   "execution_count": null,
   "id": "a9620cb4",
   "metadata": {},
   "outputs": [],
   "source": [
    "model = ensemble.RandomForestRegressor(n_estimators=100, criterion='squared_error',\n",
    "                                                max_depth=None, min_samples_split=2,\n",
    "                                                min_samples_leaf=1, min_weight_fraction_leaf=0.0,\n",
    "                                                max_features='auto', max_leaf_nodes=None,\n",
    "                                                min_impurity_decrease=0.0,\n",
    "                                                bootstrap=True, oob_score=False,\n",
    "                                                n_jobs=64, random_state=328, verbose=1,\n",
    "                                                warm_start=False, ccp_alpha=0.0, max_samples=None)\n",
    "\n",
    "\n",
    "# Grid parameters\n",
    "param_rf={'max_depth':list(np.arange(1, 10, step=2)) + [None],\n",
    "          'n_estimators':[100,250],\n",
    "          'max_features':[\"sqrt\",0.1,0.2,0.3],\n",
    "          'criterion':['squared_error','absolute_error'],\n",
    "          'min_samples_leaf':np.arange(4,20,step=4)\n",
    "         }\n",
    "\n",
    "#It will select 100 random combinations for the CV and do 5-fold CV for each combination\n",
    "n_iter = 50\n",
    "rf_gs=supervised_learning_steps(\"rf\",\"r2\",data_type,classification_task,model,param_rf,rev_X_train,Y_train,n_iter=n_iter,n_splits=5)\n",
    "        \n",
    "#Build the model and get 5-fold CV results    \n",
    "#print(rf_gs.cv_results_)\n"
   ]
  },
  {
   "cell_type": "code",
   "execution_count": null,
   "id": "21c66f89",
   "metadata": {},
   "outputs": [],
   "source": [
    "rf_gs = load_model(\"rf_models/rf_\"+data_type+\"_regressor_gs.pk\")\n",
    "results = get_CV_results(rf_gs,pd.DataFrame(rev_X_train),Y_train,n_splits=5)\n",
    "print(results)"
   ]
  },
  {
   "cell_type": "code",
   "execution_count": null,
   "id": "9244cbd1",
   "metadata": {},
   "outputs": [],
   "source": [
    "#Test the linear regression model on separate test set  \n",
    "rf_gs = load_model(\"rf_models/rf_\"+data_type+\"_regressor_gs.pk\")\n",
    "np.max(rf_gs.cv_results_[\"mean_test_score\"])\n",
    "rf_best = rf_gs.best_estimator_\n",
    "y_pred_rf=rf_best.predict(rev_X_test)\n",
    "test_metrics = calculate_regression_metrics(Y_test,y_pred_rf)\n",
    "print(test_metrics)\n",
    "\n",
    "#Write the prediction of LR model\n",
    "metadata_X_test['predictions']=y_pred_rf\n",
    "metadata_X_test['labels']=Y_test\n",
    "metadata_X_test.to_csv(\"../Results/RF_\"+data_type+\"_supervised_test_predictions.csv\",index=False)\n",
    "print(\"Finished writing predictions\")\n",
    "\n",
    "fig = plt.figure()\n",
    "plt.style.use('classic')\n",
    "fig.set_size_inches(2.5,2.5)\n",
    "fig.set_dpi(300)\n",
    "fig.set_facecolor(\"white\")\n",
    "\n",
    "ax = sn.regplot(x=\"labels\", y=\"predictions\", data=metadata_X_test, scatter_kws={\"color\": \"lightblue\",'alpha':0.5}, \n",
    "                line_kws={\"color\": \"red\"})\n",
    "ax.axes.set_title(\"RF Predictions (MFP + Feat)\",fontsize=10)\n",
    "ax.set_xlim(0, 300)\n",
    "ax.set_ylim(0, 300)\n",
    "ax.set_xlabel(\"Label\",fontsize=10)\n",
    "ax.set_ylabel(\"Prediction\",fontsize=10)\n",
    "ax.tick_params(labelsize=10, color=\"black\")\n",
    "plt.text(25,25, 'Pearson r =' +str(test_metrics[3]), fontsize = 10)\n",
    "plt.text(25,50, 'MAE ='+str(test_metrics[0]),fontsize=10)\n",
    "outfilename = \"../Results/RF_\"+data_type+\"_supervised_test_prediction.pdf\"\n",
    "plt.savefig(outfilename, bbox_inches=\"tight\")"
   ]
  },
  {
   "cell_type": "code",
   "execution_count": null,
   "id": "76c486b2",
   "metadata": {
    "lines_to_next_cell": 0
   },
   "outputs": [],
   "source": [
    "#Get the most important variables and their feature importance scores\n",
    "rf_best = load_model(\"rf_models/rf_\"+data_type+\"_regressor_best_estimator.pk\")\n",
    "val, index = np.sort(rf_best.feature_importances_), np.argsort(rf_best.feature_importances_)\n",
    "fig = plt.figure()\n",
    "plt.style.use('classic')\n",
    "fig.set_size_inches(4,3)\n",
    "fig.set_dpi(300)\n",
    "fig.set_facecolor(\"white\")\n",
    "\n",
    "ax = fig.add_subplot(111)\n",
    "plt.bar(rev_X_train.columns[index[-20:]],val[-20:])\n",
    "plt.xticks(rotation = 90) # Rotates X-Axis Ticks by 45-degrees\n",
    "\n",
    "ax.axes.set_title(\"Top RF VI (MFP + Feat)\",fontsize=9)\n",
    "ax.set_xlabel(\"Features\",fontsize=9)\n",
    "ax.set_ylabel(\"VI Value\",fontsize=9)\n",
    "ax.tick_params(labelsize=9)\n",
    "outputfile = \"../Results/RF_\"+data_type+\"_Coefficients.pdf\"\n",
    "plt.savefig(outputfile, bbox_inches=\"tight\")"
   ]
  },
  {
   "cell_type": "code",
   "execution_count": null,
   "id": "9fb722ad",
   "metadata": {
    "lines_to_next_cell": 2
   },
   "outputs": [],
   "source": []
  }
 ],
 "metadata": {
  "jupytext": {
   "formats": "py:light,ipynb"
  },
  "kernelspec": {
   "display_name": "Python 3 (ipykernel)",
   "language": "python",
   "name": "python3"
  },
  "language_info": {
   "codemirror_mode": {
    "name": "ipython",
    "version": 3
   },
   "file_extension": ".py",
   "mimetype": "text/x-python",
   "name": "python",
   "nbconvert_exporter": "python",
   "pygments_lexer": "ipython3",
   "version": "3.11.0"
  }
 },
 "nbformat": 4,
 "nbformat_minor": 5
}
