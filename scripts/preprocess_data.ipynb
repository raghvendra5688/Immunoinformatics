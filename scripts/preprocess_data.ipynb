{
 "cells": [
  {
   "cell_type": "code",
   "execution_count": 1,
   "id": "9bdabf44",
   "metadata": {},
   "outputs": [],
   "source": [
    "import numpy as np\n",
    "import pandas as pd\n",
    "import matplotlib\n",
    "import rdkit"
   ]
  },
  {
   "cell_type": "code",
   "execution_count": 2,
   "id": "99b17415",
   "metadata": {},
   "outputs": [
    {
     "name": "stdout",
     "output_type": "stream",
     "text": [
      "       dbgap_subject_id dbgap_dnaseq_sample dbgap_rnaseq_sample  \\\n",
      "0                  2476                 NaN             BA3073R   \n",
      "1                  2476                 NaN             BA3073R   \n",
      "2                  2476                 NaN             BA3073R   \n",
      "3                  2476                 NaN             BA3073R   \n",
      "4                  2476                 NaN             BA3073R   \n",
      "...                 ...                 ...                 ...   \n",
      "63390              2750             BA3100D                 NaN   \n",
      "63391              2750             BA3100D                 NaN   \n",
      "63392              2750             BA3100D                 NaN   \n",
      "63393              2750             BA3100D                 NaN   \n",
      "63394              2750             BA3100D                 NaN   \n",
      "\n",
      "                     inhibitor          type       status  paper_inclusion  \\\n",
      "0         Axitinib (AG-013736)  single-agent   train/test             True   \n",
      "1                   Crenolanib  single-agent   train/test             True   \n",
      "2      Crizotinib (PF-2341066)  single-agent   train/test             True   \n",
      "3                    Dasatinib  single-agent   train/test             True   \n",
      "4                    Erlotinib  single-agent   train/test             True   \n",
      "...                        ...           ...          ...              ...   \n",
      "63390               Venetoclax  single-agent     combined             True   \n",
      "63391    Vismodegib (GDC-0449)  single-agent   train/test             True   \n",
      "63392     Volasertib (BI-6727)  single-agent     combined             True   \n",
      "63393                 XMD 8-87  single-agent  exploratory             True   \n",
      "63394                   YM-155  single-agent   train/test             True   \n",
      "\n",
      "       min_conc  max_conc  intercept  ...  converged       ic10       ic25  \\\n",
      "0       0.01370        10  -0.145371  ...       True   0.013700   0.075364   \n",
      "1       0.01370        10  -0.605160  ...       True   0.013700   0.013700   \n",
      "2       0.01370        10  -0.393883  ...       True   0.022507   0.088986   \n",
      "3       0.00140         1  -0.153187  ...       True   0.001705   0.025291   \n",
      "4       0.01370        10  -0.220735  ...       True   0.034847   0.135294   \n",
      "...         ...       ...        ...  ...        ...        ...        ...   \n",
      "63390   0.01370        10  -1.207029  ...       True   0.013700   0.013700   \n",
      "63391   0.01370        10  11.338225  ...       True  10.000000  10.000000   \n",
      "63392   0.01370        10  -0.704943  ...       True   0.013700   0.013700   \n",
      "63393   0.01370        10  -0.263175  ...       True   0.013700   0.013700   \n",
      "63394   0.00137         1 -32.204271  ...       True   0.057419   0.060470   \n",
      "\n",
      "            ic50       ic75       ic90         auc  all_gt_50  all_lt_50  \\\n",
      "0       0.632206   5.303377  10.000000  159.484594      False      False   \n",
      "1       0.013700   0.501931  10.000000   69.956422      False       True   \n",
      "2       0.409960   1.887455   7.462260  146.947463      False      False   \n",
      "3       0.506219   1.000000   1.000000  201.043243      False      False   \n",
      "4       0.610660   2.756260  10.000000  161.789024      False      False   \n",
      "...          ...        ...        ...         ...        ...        ...   \n",
      "63390   0.013700   0.108646   1.364257   54.410634      False       True   \n",
      "63391  10.000000  10.000000  10.000000  286.054744       True      False   \n",
      "63392   0.081074   0.897093   7.806963  101.568804      False      False   \n",
      "63393   0.013700  10.000000  10.000000  109.579679      False       True   \n",
      "63394   0.064051   0.067851   0.071455  166.981698      False      False   \n",
      "\n",
      "       curve_type  \n",
      "0      decreasing  \n",
      "1      increasing  \n",
      "2      decreasing  \n",
      "3      decreasing  \n",
      "4      decreasing  \n",
      "...           ...  \n",
      "63390  decreasing  \n",
      "63391  decreasing  \n",
      "63392  decreasing  \n",
      "63393  increasing  \n",
      "63394  decreasing  \n",
      "\n",
      "[63395 rows x 26 columns]\n"
     ]
    }
   ],
   "source": [
    "#Read the data file which contains the name of all drugs\n",
    "combined_df = pd.read_csv(\"../BeatAML/Data/beataml_probit_curve_fits_v4_dbgap.txt\", delimiter=\"\\t\")\n",
    "print(combined_df)"
   ]
  },
  {
   "cell_type": "code",
   "execution_count": null,
   "id": "cad7f6b5",
   "metadata": {},
   "outputs": [],
   "source": []
  }
 ],
 "metadata": {
  "jupytext": {
   "formats": "ipynb,auto:light"
  },
  "kernelspec": {
   "display_name": "Python 3 (ipykernel)",
   "language": "python",
   "name": "python3"
  },
  "language_info": {
   "codemirror_mode": {
    "name": "ipython",
    "version": 3
   },
   "file_extension": ".py",
   "mimetype": "text/x-python",
   "name": "python",
   "nbconvert_exporter": "python",
   "pygments_lexer": "ipython3",
   "version": "3.11.0"
  }
 },
 "nbformat": 4,
 "nbformat_minor": 5
}
