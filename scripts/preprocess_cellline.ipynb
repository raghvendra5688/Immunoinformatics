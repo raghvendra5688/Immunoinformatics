{
 "cells": [
  {
   "cell_type": "code",
   "execution_count": 1,
   "id": "cd3ed03b",
   "metadata": {},
   "outputs": [],
   "source": [
    "import numpy as np\n",
    "import pandas as pd\n",
    "import pyreadr"
   ]
  },
  {
   "cell_type": "code",
   "execution_count": 2,
   "id": "463b2375",
   "metadata": {},
   "outputs": [
    {
     "name": "stdout",
     "output_type": "stream",
     "text": [
      "(337, 824)\n",
      "(183, 824)\n"
     ]
    }
   ],
   "source": [
    "#Load the samples by gene, clinical, pathway enrichment, cell type enrichment data frame\n",
    "#train_part1_df = pd.read_csv(\"../Data/Revised_Training_Set_with_Expr_Clin_PA_CTS_P1.csv.gz\",sep=\"\\t\",low_memory=False)\n",
    "#train_part2_df = pd.read_csv(\"../Data/Revised_Training_Set_with_Expr_Clin_PA_CTS_P2.csv.gz\",sep=\"\\t\",low_memory=False)\n",
    "#test_df = pd.read_csv(\"../Data/Revised_Test_Set_with_Expr_Clin_PA_CTS.csv.gz\",sep=\"\\t\",low_memory=False)\n",
    "train_df = pd.read_csv(\"../Data/Revised_Training_Set_with_Onco_Expr_Clin_PA_CTS.csv\",sep=\"\\t\",low_memory=False)\n",
    "test_df = pd.read_csv(\"../Data/Revised_Test_Set_with_Onco_Expr_Clin_PA_CTS.csv\",sep=\"\\t\",low_memory=False)\n",
    "#train_part1_df.head()\n",
    "print(train_df.shape)\n",
    "print(test_df.shape)"
   ]
  },
  {
   "cell_type": "code",
   "execution_count": 3,
   "id": "4c0cc98d",
   "metadata": {},
   "outputs": [
    {
     "name": "stdout",
     "output_type": "stream",
     "text": [
      "(460, 374)\n",
      "(211, 374)\n"
     ]
    },
    {
     "data": {
      "text/plain": [
       "Index(['DNMT3A', 'TET2', 'NRAS', 'TP53', 'RUNX1', 'IDH2', 'FLT3', 'SRSF2',\n",
       "       'WT1', 'IDH1',\n",
       "       ...\n",
       "       'ARID1B', 'CRY1', 'ZBTB47', 'WDR43', 'TRPM4', 'MYT1', 'FAM155A',\n",
       "       'ZNF687', 'SF3A1', 'dbgap_rnaseq_sample'],\n",
       "      dtype='object', length=374)"
      ]
     },
     "execution_count": 3,
     "metadata": {},
     "output_type": "execute_result"
    }
   ],
   "source": [
    "#Load the mutation information\n",
    "out = pyreadr.read_r(\"../Data/Train_Test_Mutation_Matrices.Rdata\")\n",
    "train_mut_df = out[\"train_mut_mat\"]\n",
    "test_mut_df = out[\"test_mut_mat\"]\n",
    "train_mut_var_df = out[\"train_mut_var_mat\"]\n",
    "test_mut_var_df = out[\"test_mut_var_mat\"]\n",
    "print(train_mut_df.shape)\n",
    "print(test_mut_df.shape)\n",
    "train_mut_df.columns"
   ]
  },
  {
   "cell_type": "code",
   "execution_count": 4,
   "id": "6b77fc57",
   "metadata": {},
   "outputs": [
    {
     "name": "stdout",
     "output_type": "stream",
     "text": [
      "['dbgap_rnaseq_sample', 'LASP1', 'HOXA11', 'CREBBP', 'ETV1', 'GAS7', 'CD79B', 'BTK', 'BRCA1', 'WAS', 'WWTR1', 'CD74', 'BIRC3', 'FAS', 'BCLAF1', 'ANK1', 'RABEP1', 'ZCCHC8', 'CUL3', 'FLT4', 'CDH1', 'TNC', 'CTNNA1', 'PREX2', 'TPR', 'GOPC', 'TNFRSF17', 'SNX29', 'ELN', 'ARID1B', 'HERPUD1', 'POLQ', 'PIK3CB', 'THRAP3', 'KMT2C', 'PRDM1', 'POLD1', 'CASP8', 'PMS1', 'NTHL1', 'ERBB3', 'SPEN', 'MAP2K4', 'SMARCD1', 'GOLGA5', 'FGFR2', 'KLF6', 'RHOA', 'CBFB', 'FGFR3', 'TFE3', 'BCL3', 'CLTCL1', 'FSTL3', 'PABPC1', 'TCF3', 'PRKACA', 'TFRC', 'AFF4', 'SMC1A', 'FCGR2B', 'TP63', 'SDHA', 'SMARCE1', 'KDM5A', 'IGF2BP2', 'MAP3K13', 'PICALM', 'EED', 'ARHGEF10L', 'MLH1', 'NT5C2', 'NFKB2', 'FGFR1', 'ARAF', 'N4BP2', 'HOXA9', 'MLLT10', 'PCM1', 'CIC', 'DNM2', 'KEAP1', 'HSP90AA1', 'PTPRC', 'ERC1', 'XPO1', 'PALB2', 'KAT6A', 'CYLD', 'FAT1', 'NCOA1', 'BCORL1', 'ATRX', 'MECOM', 'EPS15', 'BAX', 'GNAS', 'CNOT3', 'GNA11', 'FUS', 'CD209', 'FH', 'ESR1', 'EZR', 'MSH2', 'MAP3K1', 'HSP90AB1', 'JAK2', 'ABL1', 'LZTR1', 'SMARCB1', 'MAPK1', 'PATZ1', 'PDGFB', 'MYH9', 'EP300', 'NIN', 'HIF1A', 'DICER1', 'TCL1A', 'CCNB1IP1', 'TRIP11', 'ARHGAP5', 'NFATC2', 'SALL4', 'PTK6', 'CRNKL1', 'STAG2', 'ELF4', 'GATA1', 'CTCF', 'AXIN1', 'TSC2', 'IL21R', 'NBN', 'IKBKB', 'EIF3E', 'NDRG1', 'UBR5', 'LEPROTL1', 'ARHGEF10', 'ERCC2', 'LYL1', 'CCNE1', 'AKT2', 'CD79A', 'PPP2R1A', 'TFPT', 'JAK3', 'ELL', 'CRTC1', 'CDK6', 'MET', 'HOXA13', 'EZH2', 'SFRP4', 'GATA3', 'BMPR1A', 'CPEB3', 'SUFU', 'LARP4B', 'CCDC6', 'MLLT6', 'RNF43', 'DDX5', 'COL1A1', 'HLF', 'PRKAR1A', 'YWHAE', 'CHIC2', 'FBXW7', 'ZBTB16', 'CCND1', 'DDX6', 'CBL', 'CARS', 'NUP98', 'POU2AF1', 'PPFIBP1', 'PRPF40B', 'BCL7A', 'GLI1', 'SH2B3', 'ALDH2', 'CDKN1B', 'CHD4', 'PTPN6', 'FANCE', 'SRSF3', 'CCNC', 'QKI', 'TFEB', 'CCND3', 'ITK', 'DROSHA', 'GOLPH3', 'SUB1', 'LIFR', 'PDGFRB', 'BCL6', 'TFG', 'CBLB', 'FOXP1', 'ACVR1', 'SF3B1', 'BIRC6', 'STRN', 'EPAS1', 'NFE2L2', 'MSH6', 'BCL9', 'RPL22', 'SFPQ', 'PRDM2', 'MYCL', 'AKT3', 'SDHB', 'ID3', 'MPL', 'ARID1A', 'STAG1', 'STK11', 'KMT2A', 'CREB1', 'TNFAIP3', 'MYB', 'SGK1', 'FOXO3', 'CCND2', 'SET', 'CNTRL', 'PPP6C', 'NR4A3', 'CSF3R', 'KDSR', 'DNMT3A', 'BCL11A', 'CD274', 'KCNJ5', 'SPOP', 'CEP89', 'ZMYM2', 'PIK3CA', 'CXCR4', 'ACVR2A', 'FLT3', 'RPL5', 'PMS2', 'HNRNPA2B1', 'FKBP9', 'KIAA1549', 'TRIM24', 'CDKN2C', 'ATF1', 'STIL', 'ACSL3', 'SDC4', 'PLCG1', 'USP9X', 'HIST1H3B', 'CDKN1A', 'DEK', 'SEPT6', 'PAX8', 'MAX', 'KDM5C', 'CCR7', 'BCL2L12', 'SBDS', 'ZNF384', 'KTN1', 'NUP214', 'MAP2K2', 'BCL11B', 'PTPRB', 'SMARCA4', 'AKAP9', 'HIP1', 'KDR', 'DGCR8', 'SPECC1', 'POT1', 'SMO', 'KNSTRN', 'USP6', 'FOXA1', 'CBFA2T3', 'MLLT1', 'MNX1', 'CLIP1', 'ZNF331', 'LATS1', 'TRAF7', 'RARA', 'DNAJB1', 'RAF1', 'PPARG', 'H3F3B', 'MUTYH', 'CASP9', 'MYH11', 'BTG1', 'KRAS', 'MEN1', 'VHL', 'NOTCH2', 'MYCN', 'IL6ST', 'CDC73', 'DDB2', 'PDGFRA', 'ERCC5', 'APC', 'TBX3', 'LMO2', 'CDK4', 'ACVR1B', 'TEC', 'MDM2', 'TMEM127', 'USP44', 'LCP1', 'RAC1', 'BRIP1', 'KAT7', 'ABI1', 'KLF4', 'XPA', 'MYC', 'PIM1', 'IRF4', 'HMGA1', 'NUMA1', 'FBXO11', 'CYP2C8', 'NCOA4', 'TET1', 'ATIC', 'BARD1', 'IDH1', 'ITGAV', 'USP8', 'RAP1GDS1', 'LEF1', 'ETV6', 'ETNK1', 'COL2A1', 'BRCA2', 'RB1', 'SETD1B', 'TCF12', 'NCOA2', 'PML', 'POLG', 'NTRK3', 'CRTC3', 'ZFHX3', 'CDH11', 'NCOR1', 'CLTC', 'SS18', 'SMAD4', 'ERBB2', 'BRD4', 'VAV1', 'SH3GL1', 'AKT1', 'PRDM16', 'BCL10', 'SDHC', 'PRCC', 'ABL2', 'SETDB1', 'ARNT', 'TPM3', 'EML4', 'ASXL2', 'AFF3', 'ACKR3', 'FANCD2', 'LPP', 'MUC4', 'FIP1L1', 'PIK3R1', 'ARHGAP26', 'NFKBIE', 'EGFR', 'KDM6A', 'MSN', 'ZMYM3', 'NONO', 'GPC3', 'RPL10', 'RSPO2', 'NFIB', 'CDKN2A', 'NOTCH1', 'ZEB1', 'TCF7L2', 'ATM', 'HMGA2', 'LATS2', 'FOXO1', 'EXT2', 'VTI1A', 'FLI1', 'CYSLTR2', 'SETBP1', 'PTPRK', 'RAD17', 'RGPD3', 'RANBP2', 'PTPRD', 'JAZF1', 'MSI2', 'XPC', 'FLCN', 'GNAQ', 'PHF6', 'KAT6B', 'BUB1B', 'EIF4A2', 'NRG1', 'CACNA1D', 'KIT', 'ERG', 'CREB3L1', 'BRAF', 'TNFRSF14', 'SKI', 'FANCC', 'ELK4', 'SLC45A3', 'BTG2', 'FAM131B', 'ARHGAP35', 'U2AF1', 'RALGDS', 'LMNA', 'FGFR4', 'RECQL4', 'IKZF3', 'SRSF2', 'TAL1', 'JAK1', 'FUBP1', 'DDR2', 'RBM15', 'REL', 'H3F3A', 'ERCC3', 'ATP1A1', 'ELF3', 'TGFBR2', 'FBLN2', 'PTPN13', 'GMPS', 'RPN1', 'BAP1', 'PBRM1', 'CASP3', 'EBF1', 'TERT', 'ACSL6', 'HEY1', 'RAD21', 'COX6C', 'PSIP1', 'SYK', 'WNK2', 'FAT3', 'WRN', 'TSHR', 'CDX2', 'NSD1', 'TSC1', 'RET', 'PRKCB', 'B2M', 'NAB2', 'STAT6', 'SMAD3', 'CDK12', 'TPM4', 'KMT2D', 'SDHAF2', 'CTNNB1', 'FADD', 'PAFAH1B2', 'HOOK3', 'RFWD3', 'RHOH', 'FEN1', 'COL3A1', 'STAT3', 'AXIN2', 'IL7R', 'LRP1B', 'TET2', 'MAP2K1', 'AR', 'MN1', 'ZRSR2', 'PCBP1', 'ASPSCR1', 'CNBP', 'BRD3', 'PWWP2A', 'MGMT', 'KIF5B', 'CHCHD7', 'PPM1D', 'CANT1', 'CHST11', 'GPHN', 'CAMTA1', 'BCL2', 'MLLT3', 'PTEN', 'MALT1', 'CLP1', 'AFF1', 'TAF15', 'NBEA', 'MYD88', 'CHD2', 'EIF1AX', 'STAT5B', 'RNF213', 'CNTNAP2', 'HRAS', 'ATR', 'DDIT3', 'SMAD2', 'ERCC4', 'RMI2', 'ETV4', 'POLE', 'TBL1XR1', 'JUN', 'MLF1', 'PDE4DIP', 'DDX10', 'CD28', 'MAF', 'SUZ12', 'PER1', 'CALR', 'PTPN11', 'GATA2', 'HMGN2P46', 'GPC5', 'CIITA', 'APOBEC3B', 'MB21D2', 'PRF1', 'MUC16', 'POLR2A', 'SETD2', 'PLAG1', 'IDH2', 'CREB3L2', 'P2RY8', 'RAD51B', 'EXT1', 'FES', 'CSF1R', 'LCK', 'RBM10', 'EWSR1', 'FANCF', 'BCOR', 'ZNRF3', 'MACC1', 'CHEK2', 'CCR4', 'PRKD1', 'MAML2', 'SS18L1', 'FOXO4', 'MED12', 'SEPT9', 'AMER1', 'SEPT5', 'WT1', 'ROBO2', 'SOCS1', 'MUC1', 'PBX1', 'IKZF1', 'PTCH1', 'BCL9L', 'NF2', 'BCR', 'MITF', 'FNBP1', 'TCEA1', 'FANCA', 'NUTM2B', 'ARID2', 'FHIT', 'PAX5', 'FAT4', 'SRGAP3', 'TRRAP', 'NCOR2', 'NACA', 'NF1', 'ARHGEF12', 'FLNA', 'ZNF429', 'SRC', 'SND1', 'BLM', 'TRIM33', 'MYO5A', 'PDCD1LG2', 'MDS2', 'SIRPA', 'CARD11', 'HIST1H4I', 'NTRK1', 'CTNND1', 'BAZ1A', 'MDM4', 'MTOR', 'ZNF521', 'TOP1', 'MAFB', 'DAXX', 'SDHD', 'TRIM27', 'DCTN1', 'TMSB4X', 'CRLF2', 'OLIG2', 'HLA-A', 'FGFR1OP', 'MLLT11', 'NRAS', 'NCKIPSD', 'NUTM2D', 'MTCP1', 'DDX3X', 'FANCG', 'ETV5', 'CEBPA', 'MALAT1', 'LYN', 'LSM14A', 'CUX1', 'C15orf65', 'RP11-114I8.4', 'Tsne1', 'Tsne2', 'consensus_sex', 'ageAtDiagnosis', 'diseaseStageAtSpecimenCollection', 'vitalStatus', 'overallSurvival', '%.Blasts.in.BM', '%.Blasts.in.PB', '%.Eosinophils.in.PB', '%.Lymphocytes.in.PB', '%.Monocytes.in.PB', '%.Neutrophils.in.PB', 'ALT', 'AST', 'albumin', 'creatinine', 'hematocrit', 'hemoglobin', 'plateletCount', 'wbcCount', '[HM] Hypoxia', '[HM] Mitotic spindle', '[HM] Wnt beta catenin signaling', '[HM] TGF beta signaling', '[HM] DNA repair', '[HM] G2M checkpoint', '[HM] Apoptosis', '[HM] Notch signaling', '[HM] Hedgehog signaling', '[HM] PI3K Akt mTOR signaling', '[HM] mTORC1 signaling', '[HM] E2F targets', '[HM] Epithelial mesenchymal transition', '[HM] Oxidative phosphorylation', '[HM] Glycolysis', '[HM] Reactive oxigen species pathway', '[HM] p53 pathway', '[HM] UV response up', '[HM] UV response down', '[HM] Angiogenesis', '[HM] KRAS signaling up', '[HM] KRAS signaling down', '[HM] Myc targets', '[HM] Estrogen response', '[IPA] ERK MAPK Signaling', '[IPA] HMGB1 Signaling', '[IPA] ErbB Signaling', '[IPA] PTEN Signaling', '[IPA] PI3K AKT Signaling', '[IPA] HER 2 Signaling in Breast Cancer', '[IPA] mTOR Signaling', '[IPA] AMPK Signaling', '[IPA] p38 MAPK Signaling', '[IPA] Myc Mediated Apoptosis Signaling', '[IPA] EGF Signaling', '[IPA] VEGF Signaling', '[IPA] Estrogen Dependent Breast Cancer Signaling', '[IPA] TNFR1 Signaling', '[IPA] ErbB2 ErbB3 Signaling', '[IPA] UVC Induced MAPK Signaling', '[IPA] UVA Induced MAPK Signaling', '[IPA] UVB Induced MAPK Signaling', '[IPA] ERK5 Signaling', '[IPA] Mismatch Repair in Eukaryotes', '[IPA] Telomere Extension by Telomerase', '[TBI] Barrier genes', '[TBI] MAPK up genes', '[TBI] Phopholipase', '[LM] Proliferation', '[TPW] PI3Kgamma Signature', '[TPW] NOS1 Signature', '[TPW] SHC1/pSTAT3 Signature', '[TPW] Hypoxia/Adenosine Immune Cell Suppression', '[TPW] Immunogenic Cell Death (ICD)', 'HSC-like', 'Progenitor-like', 'GMP-like', 'Promono-like', 'Monocyte-like', 'cDC-like', 'M0', 'M1', 'M11', 'M12', 'M14', 'M16', 'M21', 'M23', 'M3', 'M4', 'M6', 'M7', 'M8', 'M9']\n"
     ]
    }
   ],
   "source": [
    "#Get the column names and useful columns\n",
    "all_columns = list(train_df.columns)\n",
    "\n",
    "#Sample ids\n",
    "sample_names = all_columns[0]\n",
    "\n",
    "#Gene names\n",
    "gene_names = all_columns[1:653]\n",
    "\n",
    "#Clinical traits with T-sne\n",
    "clin_traits = all_columns[653:750]\n",
    "clin_trait_of_use = ['Tsne1','Tsne2','consensus_sex','ageAtDiagnosis','diseaseStageAtSpecimenCollection','vitalStatus',\n",
    "                     'overallSurvival', '%.Blasts.in.BM', '%.Blasts.in.PB', '%.Eosinophils.in.PB', '%.Lymphocytes.in.PB', \n",
    "                     '%.Monocytes.in.PB', '%.Neutrophils.in.PB','ALT', 'AST', 'albumin', 'creatinine', \n",
    "                     'hematocrit', 'hemoglobin','plateletCount','wbcCount']\n",
    "\n",
    "#A description of the min max values\n",
    "train_df[clin_trait_of_use].describe()\n",
    "\n",
    "#Get the information about pathways\n",
    "pathway_names = all_columns[750:804]\n",
    "\n",
    "#Get the information about celltypes and modules\n",
    "cts_names = all_columns[804:824]\n",
    "\n",
    "#Print all columns of interest\n",
    "all_cols_of_interest = [sample_names]+gene_names+clin_trait_of_use+pathway_names+cts_names\n",
    "print(all_cols_of_interest)"
   ]
  },
  {
   "cell_type": "code",
   "execution_count": 5,
   "id": "cbe35a63",
   "metadata": {},
   "outputs": [
    {
     "data": {
      "text/plain": [
       "748"
      ]
     },
     "execution_count": 5,
     "metadata": {},
     "output_type": "execute_result"
    }
   ],
   "source": [
    "len(all_cols_of_interest)"
   ]
  },
  {
   "cell_type": "code",
   "execution_count": 6,
   "id": "c94a62c8",
   "metadata": {
    "lines_to_next_cell": 0
   },
   "outputs": [
    {
     "name": "stdout",
     "output_type": "stream",
     "text": [
      "(337, 1131)\n",
      "(183, 1131)\n"
     ]
    },
    {
     "data": {
      "text/plain": [
       "1131"
      ]
     },
     "execution_count": 6,
     "metadata": {},
     "output_type": "execute_result"
    }
   ],
   "source": [
    "#Make the big combined training and test dataframe\n",
    "#big_train_df = pd.concat([train_part1_df,train_part2_df],axis=0)\n",
    "big_train_df = train_df\n",
    "big_train_df = pd.DataFrame(big_train_df[all_cols_of_interest])\n",
    "big_test_df = pd.DataFrame(test_df[all_cols_of_interest])\n",
    "\n",
    "#Join the training dataframe with mutation information\n",
    "big_train_df = pd.merge(big_train_df,train_mut_df,on='dbgap_rnaseq_sample')\n",
    "big_train_df = pd.merge(big_train_df, train_mut_var_df, on=\"dbgap_rnaseq_sample\")\n",
    "\n",
    "big_test_df = pd.merge(big_test_df, test_mut_df, on=\"dbgap_rnaseq_sample\")\n",
    "big_test_df = pd.merge(big_test_df, test_mut_var_df, on=\"dbgap_rnaseq_sample\")\n",
    "print(big_train_df.shape)\n",
    "print(big_test_df.shape)\n",
    "sum(big_train_df.columns==big_test_df.columns)"
   ]
  },
  {
   "cell_type": "code",
   "execution_count": 9,
   "id": "a32b72d0",
   "metadata": {},
   "outputs": [],
   "source": [
    "#Write the data frames as pickle files\n",
    "big_train_df.to_pickle(\"../Data/Training_Set_Mod.pkl\", compression=\"zip\")\n",
    "big_test_df.to_pickle(\"../Data/Test_Set_Mod.pkl\",compression=\"zip\")\n",
    "big_train_df.to_csv(\"../Data/Training_Set_Mod.csv\",index=None,sep=\"\\t\")\n",
    "big_test_df.to_csv(\"../Data/Test_Set_Mod.csv\",index=None,sep=\"\\t\")"
   ]
  },
  {
   "cell_type": "code",
   "execution_count": null,
   "id": "a071ca52",
   "metadata": {
    "lines_to_next_cell": 2
   },
   "outputs": [],
   "source": []
  }
 ],
 "metadata": {
  "jupytext": {
   "formats": "ipynb,py:light"
  },
  "kernelspec": {
   "display_name": "Python 3 (ipykernel)",
   "language": "python",
   "name": "python3"
  },
  "language_info": {
   "codemirror_mode": {
    "name": "ipython",
    "version": 3
   },
   "file_extension": ".py",
   "mimetype": "text/x-python",
   "name": "python",
   "nbconvert_exporter": "python",
   "pygments_lexer": "ipython3",
   "version": "3.11.0"
  }
 },
 "nbformat": 4,
 "nbformat_minor": 5
}
