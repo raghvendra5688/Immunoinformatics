{
 "cells": [
  {
   "cell_type": "code",
   "execution_count": null,
   "id": "cd3ed03b",
   "metadata": {},
   "outputs": [],
   "source": [
    "import numpy as np\n",
    "import pandas as pd\n",
    "import pyreadr"
   ]
  },
  {
   "cell_type": "code",
   "execution_count": null,
   "id": "463b2375",
   "metadata": {},
   "outputs": [],
   "source": [
    "#Load the samples by gene, clinical, pathway enrichment, cell type enrichment data frame\n",
    "train_part1_df = pd.read_csv(\"../Data/Revised_Training_Set_with_Expr_Clin_PA_CTS_P1.csv.gz\",sep=\"\\t\",low_memory=False)\n",
    "train_part2_df = pd.read_csv(\"../Data/Revised_Training_Set_with_Expr_Clin_PA_CTS_P2.csv.gz\",sep=\"\\t\",low_memory=False)\n",
    "test_df = pd.read_csv(\"../Data/Revised_Test_Set_with_Expr_Clin_PA_CTS.csv.gz\",sep=\"\\t\",low_memory=False)\n",
    "train_part1_df.head()\n",
    "print(train_part1_df.shape)\n",
    "print(train_part2_df.shape)"
   ]
  },
  {
   "cell_type": "code",
   "execution_count": null,
   "id": "4c0cc98d",
   "metadata": {},
   "outputs": [],
   "source": [
    "#Load the mutation information\n",
    "out = pyreadr.read_r(\"../Data/Train_Test_Mutation_Matrices.Rdata\")\n",
    "train_mut_df = out[\"train_mut_mat\"]\n",
    "test_mut_df = out[\"test_mut_mat\"]\n",
    "train_mut_var_df = out[\"train_mut_var_mat\"]\n",
    "test_mut_var_df = out[\"test_mut_var_mat\"]\n",
    "print(train_mut_df.shape)\n",
    "print(test_mut_df.shape)\n",
    "train_mut_df.columns"
   ]
  },
  {
   "cell_type": "code",
   "execution_count": null,
   "id": "6b77fc57",
   "metadata": {},
   "outputs": [],
   "source": [
    "#Get the column names and useful columns\n",
    "all_columns = list(train_part1_df.columns)\n",
    "\n",
    "#Sample ids\n",
    "sample_names = all_columns[0]\n",
    "\n",
    "#Gene names\n",
    "gene_names = all_columns[1:22844]\n",
    "\n",
    "#Clinical traits with T-sne\n",
    "clin_traits = all_columns[22844:22941]\n",
    "clin_trait_of_use = ['Tsne1','Tsne2','consensus_sex','ageAtDiagnosis','diseaseStageAtSpecimenCollection','vitalStatus',\n",
    "                     'overallSurvival', '%.Blasts.in.BM', '%.Blasts.in.PB', '%.Eosinophils.in.PB', '%.Lymphocytes.in.PB', \n",
    "                     '%.Monocytes.in.PB', '%.Neutrophils.in.PB','ALT', 'AST', 'albumin', 'creatinine', \n",
    "                     'hematocrit', 'hemoglobin','plateletCount','wbcCount']\n",
    "\n",
    "#A description of the min max values\n",
    "train_part1_df[clin_trait_of_use].describe()\n",
    "\n",
    "#Get the information about pathways\n",
    "pathway_names = all_columns[22941:22995]\n",
    "\n",
    "#Get the information about celltypes and modules\n",
    "cts_names = all_columns[22995:23015]\n",
    "\n",
    "#Print all columns of interest\n",
    "all_cols_of_interest = [sample_names]+gene_names+clin_trait_of_use+pathway_names+cts_names\n",
    "print(all_cols_of_interest)"
   ]
  },
  {
   "cell_type": "code",
   "execution_count": null,
   "id": "cbe35a63",
   "metadata": {},
   "outputs": [],
   "source": [
    "len(all_cols_of_interest)"
   ]
  },
  {
   "cell_type": "code",
   "execution_count": null,
   "id": "c94a62c8",
   "metadata": {
    "lines_to_next_cell": 0
   },
   "outputs": [],
   "source": [
    "#Make the big combined training and test dataframe\n",
    "big_train_df = pd.concat([train_part1_df,train_part2_df],axis=0)\n",
    "big_train_df = pd.DataFrame(big_train_df[all_cols_of_interest])\n",
    "big_test_df = pd.DataFrame(test_df[all_cols_of_interest])\n",
    "\n",
    "#Join the training dataframe with mutation information\n",
    "big_train_df = pd.merge(big_train_df,train_mut_df,on='dbgap_rnaseq_sample')\n",
    "big_train_df = pd.merge(big_train_df, train_mut_var_df, on=\"dbgap_rnaseq_sample\")\n",
    "\n",
    "big_test_df = pd.merge(big_test_df, test_mut_df, on=\"dbgap_rnaseq_sample\")\n",
    "big_test_df = pd.merge(big_test_df, test_mut_var_df, on=\"dbgap_rnaseq_sample\")\n",
    "print(big_train_df.shape)\n",
    "print(big_test_df.shape)\n",
    "sum(big_train_df.columns==big_test_df.columns)"
   ]
  },
  {
   "cell_type": "code",
   "execution_count": null,
   "id": "a32b72d0",
   "metadata": {},
   "outputs": [],
   "source": [
    "#Write the data frames as pickle files\n",
    "big_train_df.to_pickle(\"../Data/Training_Set_Mod.pkl\", compression=\"zip\")\n",
    "big_test_df.to_pickle(\"../Data/Test_Set_Mod.pkl\",compression=\"zip\")"
   ]
  },
  {
   "cell_type": "code",
   "execution_count": null,
   "id": "a071ca52",
   "metadata": {
    "lines_to_next_cell": 2
   },
   "outputs": [],
   "source": []
  }
 ],
 "metadata": {
  "jupytext": {
   "formats": "ipynb,py:light"
  },
  "kernelspec": {
   "display_name": "Python 3 (ipykernel)",
   "language": "python",
   "name": "python3"
  },
  "language_info": {
   "codemirror_mode": {
    "name": "ipython",
    "version": 3
   },
   "file_extension": ".py",
   "mimetype": "text/x-python",
   "name": "python",
   "nbconvert_exporter": "python",
   "pygments_lexer": "ipython3",
   "version": "3.11.0"
  }
 },
 "nbformat": 4,
 "nbformat_minor": 5
}
