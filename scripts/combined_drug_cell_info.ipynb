{
 "cells": [
  {
   "cell_type": "code",
   "execution_count": 1,
   "id": "44a79ee5",
   "metadata": {},
   "outputs": [],
   "source": [
    "import pandas as pd\n",
    "import numpy as np\n",
    "import os\n",
    "import pickle"
   ]
  },
  {
   "cell_type": "code",
   "execution_count": 2,
   "id": "ce858e46",
   "metadata": {},
   "outputs": [
    {
     "name": "stdout",
     "output_type": "stream",
     "text": [
      "(337, 824)\n",
      "(183, 824)\n",
      "(460, 374)\n",
      "(211, 374)\n",
      "['dbgap_rnaseq_sample', 'LASP1', 'HOXA11', 'CREBBP', 'ETV1', 'GAS7', 'CD79B', 'BTK', 'BRCA1', 'WAS', 'WWTR1', 'CD74', 'BIRC3', 'FAS', 'BCLAF1', 'ANK1', 'RABEP1', 'ZCCHC8', 'CUL3', 'FLT4', 'CDH1', 'TNC', 'CTNNA1', 'PREX2', 'TPR', 'GOPC', 'TNFRSF17', 'SNX29', 'ELN', 'ARID1B', 'HERPUD1', 'POLQ', 'PIK3CB', 'THRAP3', 'KMT2C', 'PRDM1', 'POLD1', 'CASP8', 'PMS1', 'NTHL1', 'ERBB3', 'SPEN', 'MAP2K4', 'SMARCD1', 'GOLGA5', 'FGFR2', 'KLF6', 'RHOA', 'CBFB', 'FGFR3', 'TFE3', 'BCL3', 'CLTCL1', 'FSTL3', 'PABPC1', 'TCF3', 'PRKACA', 'TFRC', 'AFF4', 'SMC1A', 'FCGR2B', 'TP63', 'SDHA', 'SMARCE1', 'KDM5A', 'IGF2BP2', 'MAP3K13', 'PICALM', 'EED', 'ARHGEF10L', 'MLH1', 'NT5C2', 'NFKB2', 'FGFR1', 'ARAF', 'N4BP2', 'HOXA9', 'MLLT10', 'PCM1', 'CIC', 'DNM2', 'KEAP1', 'HSP90AA1', 'PTPRC', 'ERC1', 'XPO1', 'PALB2', 'KAT6A', 'CYLD', 'FAT1', 'NCOA1', 'BCORL1', 'ATRX', 'MECOM', 'EPS15', 'BAX', 'GNAS', 'CNOT3', 'GNA11', 'FUS', 'CD209', 'FH', 'ESR1', 'EZR', 'MSH2', 'MAP3K1', 'HSP90AB1', 'JAK2', 'ABL1', 'LZTR1', 'SMARCB1', 'MAPK1', 'PATZ1', 'PDGFB', 'MYH9', 'EP300', 'NIN', 'HIF1A', 'DICER1', 'TCL1A', 'CCNB1IP1', 'TRIP11', 'ARHGAP5', 'NFATC2', 'SALL4', 'PTK6', 'CRNKL1', 'STAG2', 'ELF4', 'GATA1', 'CTCF', 'AXIN1', 'TSC2', 'IL21R', 'NBN', 'IKBKB', 'EIF3E', 'NDRG1', 'UBR5', 'LEPROTL1', 'ARHGEF10', 'ERCC2', 'LYL1', 'CCNE1', 'AKT2', 'CD79A', 'PPP2R1A', 'TFPT', 'JAK3', 'ELL', 'CRTC1', 'CDK6', 'MET', 'HOXA13', 'EZH2', 'SFRP4', 'GATA3', 'BMPR1A', 'CPEB3', 'SUFU', 'LARP4B', 'CCDC6', 'MLLT6', 'RNF43', 'DDX5', 'COL1A1', 'HLF', 'PRKAR1A', 'YWHAE', 'CHIC2', 'FBXW7', 'ZBTB16', 'CCND1', 'DDX6', 'CBL', 'CARS', 'NUP98', 'POU2AF1', 'PPFIBP1', 'PRPF40B', 'BCL7A', 'GLI1', 'SH2B3', 'ALDH2', 'CDKN1B', 'CHD4', 'PTPN6', 'FANCE', 'SRSF3', 'CCNC', 'QKI', 'TFEB', 'CCND3', 'ITK', 'DROSHA', 'GOLPH3', 'SUB1', 'LIFR', 'PDGFRB', 'BCL6', 'TFG', 'CBLB', 'FOXP1', 'ACVR1', 'SF3B1', 'BIRC6', 'STRN', 'EPAS1', 'NFE2L2', 'MSH6', 'BCL9', 'RPL22', 'SFPQ', 'PRDM2', 'MYCL', 'AKT3', 'SDHB', 'ID3', 'MPL', 'ARID1A', 'STAG1', 'STK11', 'KMT2A', 'CREB1', 'TNFAIP3', 'MYB', 'SGK1', 'FOXO3', 'CCND2', 'SET', 'CNTRL', 'PPP6C', 'NR4A3', 'CSF3R', 'KDSR', 'DNMT3A', 'BCL11A', 'CD274', 'KCNJ5', 'SPOP', 'CEP89', 'ZMYM2', 'PIK3CA', 'CXCR4', 'ACVR2A', 'FLT3', 'RPL5', 'PMS2', 'HNRNPA2B1', 'FKBP9', 'KIAA1549', 'TRIM24', 'CDKN2C', 'ATF1', 'STIL', 'ACSL3', 'SDC4', 'PLCG1', 'USP9X', 'HIST1H3B', 'CDKN1A', 'DEK', 'SEPT6', 'PAX8', 'MAX', 'KDM5C', 'CCR7', 'BCL2L12', 'SBDS', 'ZNF384', 'KTN1', 'NUP214', 'MAP2K2', 'BCL11B', 'PTPRB', 'SMARCA4', 'AKAP9', 'HIP1', 'KDR', 'DGCR8', 'SPECC1', 'POT1', 'SMO', 'KNSTRN', 'USP6', 'FOXA1', 'CBFA2T3', 'MLLT1', 'MNX1', 'CLIP1', 'ZNF331', 'LATS1', 'TRAF7', 'RARA', 'DNAJB1', 'RAF1', 'PPARG', 'H3F3B', 'MUTYH', 'CASP9', 'MYH11', 'BTG1', 'KRAS', 'MEN1', 'VHL', 'NOTCH2', 'MYCN', 'IL6ST', 'CDC73', 'DDB2', 'PDGFRA', 'ERCC5', 'APC', 'TBX3', 'LMO2', 'CDK4', 'ACVR1B', 'TEC', 'MDM2', 'TMEM127', 'USP44', 'LCP1', 'RAC1', 'BRIP1', 'KAT7', 'ABI1', 'KLF4', 'XPA', 'MYC', 'PIM1', 'IRF4', 'HMGA1', 'NUMA1', 'FBXO11', 'CYP2C8', 'NCOA4', 'TET1', 'ATIC', 'BARD1', 'IDH1', 'ITGAV', 'USP8', 'RAP1GDS1', 'LEF1', 'ETV6', 'ETNK1', 'COL2A1', 'BRCA2', 'RB1', 'SETD1B', 'TCF12', 'NCOA2', 'PML', 'POLG', 'NTRK3', 'CRTC3', 'ZFHX3', 'CDH11', 'NCOR1', 'CLTC', 'SS18', 'SMAD4', 'ERBB2', 'BRD4', 'VAV1', 'SH3GL1', 'AKT1', 'PRDM16', 'BCL10', 'SDHC', 'PRCC', 'ABL2', 'SETDB1', 'ARNT', 'TPM3', 'EML4', 'ASXL2', 'AFF3', 'ACKR3', 'FANCD2', 'LPP', 'MUC4', 'FIP1L1', 'PIK3R1', 'ARHGAP26', 'NFKBIE', 'EGFR', 'KDM6A', 'MSN', 'ZMYM3', 'NONO', 'GPC3', 'RPL10', 'RSPO2', 'NFIB', 'CDKN2A', 'NOTCH1', 'ZEB1', 'TCF7L2', 'ATM', 'HMGA2', 'LATS2', 'FOXO1', 'EXT2', 'VTI1A', 'FLI1', 'CYSLTR2', 'SETBP1', 'PTPRK', 'RAD17', 'RGPD3', 'RANBP2', 'PTPRD', 'JAZF1', 'MSI2', 'XPC', 'FLCN', 'GNAQ', 'PHF6', 'KAT6B', 'BUB1B', 'EIF4A2', 'NRG1', 'CACNA1D', 'KIT', 'ERG', 'CREB3L1', 'BRAF', 'TNFRSF14', 'SKI', 'FANCC', 'ELK4', 'SLC45A3', 'BTG2', 'FAM131B', 'ARHGAP35', 'U2AF1', 'RALGDS', 'LMNA', 'FGFR4', 'RECQL4', 'IKZF3', 'SRSF2', 'TAL1', 'JAK1', 'FUBP1', 'DDR2', 'RBM15', 'REL', 'H3F3A', 'ERCC3', 'ATP1A1', 'ELF3', 'TGFBR2', 'FBLN2', 'PTPN13', 'GMPS', 'RPN1', 'BAP1', 'PBRM1', 'CASP3', 'EBF1', 'TERT', 'ACSL6', 'HEY1', 'RAD21', 'COX6C', 'PSIP1', 'SYK', 'WNK2', 'FAT3', 'WRN', 'TSHR', 'CDX2', 'NSD1', 'TSC1', 'RET', 'PRKCB', 'B2M', 'NAB2', 'STAT6', 'SMAD3', 'CDK12', 'TPM4', 'KMT2D', 'SDHAF2', 'CTNNB1', 'FADD', 'PAFAH1B2', 'HOOK3', 'RFWD3', 'RHOH', 'FEN1', 'COL3A1', 'STAT3', 'AXIN2', 'IL7R', 'LRP1B', 'TET2', 'MAP2K1', 'AR', 'MN1', 'ZRSR2', 'PCBP1', 'ASPSCR1', 'CNBP', 'BRD3', 'PWWP2A', 'MGMT', 'KIF5B', 'CHCHD7', 'PPM1D', 'CANT1', 'CHST11', 'GPHN', 'CAMTA1', 'BCL2', 'MLLT3', 'PTEN', 'MALT1', 'CLP1', 'AFF1', 'TAF15', 'NBEA', 'MYD88', 'CHD2', 'EIF1AX', 'STAT5B', 'RNF213', 'CNTNAP2', 'HRAS', 'ATR', 'DDIT3', 'SMAD2', 'ERCC4', 'RMI2', 'ETV4', 'POLE', 'TBL1XR1', 'JUN', 'MLF1', 'PDE4DIP', 'DDX10', 'CD28', 'MAF', 'SUZ12', 'PER1', 'CALR', 'PTPN11', 'GATA2', 'HMGN2P46', 'GPC5', 'CIITA', 'APOBEC3B', 'MB21D2', 'PRF1', 'MUC16', 'POLR2A', 'SETD2', 'PLAG1', 'IDH2', 'CREB3L2', 'P2RY8', 'RAD51B', 'EXT1', 'FES', 'CSF1R', 'LCK', 'RBM10', 'EWSR1', 'FANCF', 'BCOR', 'ZNRF3', 'MACC1', 'CHEK2', 'CCR4', 'PRKD1', 'MAML2', 'SS18L1', 'FOXO4', 'MED12', 'SEPT9', 'AMER1', 'SEPT5', 'WT1', 'ROBO2', 'SOCS1', 'MUC1', 'PBX1', 'IKZF1', 'PTCH1', 'BCL9L', 'NF2', 'BCR', 'MITF', 'FNBP1', 'TCEA1', 'FANCA', 'NUTM2B', 'ARID2', 'FHIT', 'PAX5', 'FAT4', 'SRGAP3', 'TRRAP', 'NCOR2', 'NACA', 'NF1', 'ARHGEF12', 'FLNA', 'ZNF429', 'SRC', 'SND1', 'BLM', 'TRIM33', 'MYO5A', 'PDCD1LG2', 'MDS2', 'SIRPA', 'CARD11', 'HIST1H4I', 'NTRK1', 'CTNND1', 'BAZ1A', 'MDM4', 'MTOR', 'ZNF521', 'TOP1', 'MAFB', 'DAXX', 'SDHD', 'TRIM27', 'DCTN1', 'TMSB4X', 'CRLF2', 'OLIG2', 'HLA-A', 'FGFR1OP', 'MLLT11', 'NRAS', 'NCKIPSD', 'NUTM2D', 'MTCP1', 'DDX3X', 'FANCG', 'ETV5', 'CEBPA', 'MALAT1', 'LYN', 'LSM14A', 'CUX1', 'C15orf65', 'RP11-114I8.4', 'Tsne1', 'Tsne2', 'consensus_sex', 'ageAtDiagnosis', 'diseaseStageAtSpecimenCollection', 'vitalStatus', 'overallSurvival', '%.Blasts.in.BM', '%.Blasts.in.PB', '%.Eosinophils.in.PB', '%.Lymphocytes.in.PB', '%.Monocytes.in.PB', '%.Neutrophils.in.PB', 'ALT', 'AST', 'albumin', 'creatinine', 'hematocrit', 'hemoglobin', 'plateletCount', 'wbcCount', '[HM] Hypoxia', '[HM] Mitotic spindle', '[HM] Wnt beta catenin signaling', '[HM] TGF beta signaling', '[HM] DNA repair', '[HM] G2M checkpoint', '[HM] Apoptosis', '[HM] Notch signaling', '[HM] Hedgehog signaling', '[HM] PI3K Akt mTOR signaling', '[HM] mTORC1 signaling', '[HM] E2F targets', '[HM] Epithelial mesenchymal transition', '[HM] Oxidative phosphorylation', '[HM] Glycolysis', '[HM] Reactive oxigen species pathway', '[HM] p53 pathway', '[HM] UV response up', '[HM] UV response down', '[HM] Angiogenesis', '[HM] KRAS signaling up', '[HM] KRAS signaling down', '[HM] Myc targets', '[HM] Estrogen response', '[IPA] ERK MAPK Signaling', '[IPA] HMGB1 Signaling', '[IPA] ErbB Signaling', '[IPA] PTEN Signaling', '[IPA] PI3K AKT Signaling', '[IPA] HER 2 Signaling in Breast Cancer', '[IPA] mTOR Signaling', '[IPA] AMPK Signaling', '[IPA] p38 MAPK Signaling', '[IPA] Myc Mediated Apoptosis Signaling', '[IPA] EGF Signaling', '[IPA] VEGF Signaling', '[IPA] Estrogen Dependent Breast Cancer Signaling', '[IPA] TNFR1 Signaling', '[IPA] ErbB2 ErbB3 Signaling', '[IPA] UVC Induced MAPK Signaling', '[IPA] UVA Induced MAPK Signaling', '[IPA] UVB Induced MAPK Signaling', '[IPA] ERK5 Signaling', '[IPA] Mismatch Repair in Eukaryotes', '[IPA] Telomere Extension by Telomerase', '[TBI] Barrier genes', '[TBI] MAPK up genes', '[TBI] Phopholipase', '[LM] Proliferation', '[TPW] PI3Kgamma Signature', '[TPW] NOS1 Signature', '[TPW] SHC1/pSTAT3 Signature', '[TPW] Hypoxia/Adenosine Immune Cell Suppression', '[TPW] Immunogenic Cell Death (ICD)', 'HSC-like', 'Progenitor-like', 'GMP-like', 'Promono-like', 'Monocyte-like', 'cDC-like', 'M0', 'M1', 'M11', 'M12', 'M14', 'M16', 'M21', 'M23', 'M3', 'M4', 'M6', 'M7', 'M8', 'M9']\n",
      "(337, 1131)\n",
      "(183, 1131)\n"
     ]
    },
    {
     "data": {
      "text/plain": [
       "0"
      ]
     },
     "execution_count": 2,
     "metadata": {},
     "output_type": "execute_result"
    }
   ],
   "source": [
    "#Run the command to generate the train and test pkl files\n",
    "command = \"python preprocess_cellline.py\"\n",
    "os.system(command)"
   ]
  },
  {
   "cell_type": "code",
   "execution_count": 3,
   "id": "8f4f95b3",
   "metadata": {},
   "outputs": [
    {
     "name": "stdout",
     "output_type": "stream",
     "text": [
      "(337, 1131)\n",
      "(183, 1131)\n",
      "Index(['dbgap_rnaseq_sample', 'LASP1', 'HOXA11', 'CREBBP_x', 'ETV1', 'GAS7',\n",
      "       'CD79B', 'BTK', 'BRCA1', 'WAS',\n",
      "       ...\n",
      "       'frameshift_variant', 'missense_variant', 'stop_gained',\n",
      "       'inframe_deletion', 'protein_altering_variant',\n",
      "       'splice_acceptor_variant', 'splice_donor_variant', 'start_lost',\n",
      "       'inframe_insertion', 'stop_lost'],\n",
      "      dtype='object', length=1131)\n"
     ]
    }
   ],
   "source": [
    "#Load the training and test set with gene expression, clinical traits, pathway activations, celltype and module activations, mutations\n",
    "train_feature_df = pd.read_pickle(\"../Data/Training_Set_Mod.pkl\",compression=\"zip\")\n",
    "test_feature_df = pd.read_pickle(\"../Data/Test_Set_Mod.pkl\",compression=\"zip\")\n",
    "print(train_feature_df.shape)\n",
    "print(test_feature_df.shape)\n",
    "print(train_feature_df.columns)"
   ]
  },
  {
   "cell_type": "code",
   "execution_count": 4,
   "id": "5bf76ae8",
   "metadata": {},
   "outputs": [
    {
     "name": "stdout",
     "output_type": "stream",
     "text": [
      "(34387, 81)\n",
      "(19184, 81)\n",
      "Index(['primary_key', 'dbgap_subject_id', 'dbgap_dnaseq_sample',\n",
      "       'dbgap_rnaseq_sample', 'inhibitor', 'type', 'status', 'paper_inclusion',\n",
      "       'min_conc', 'max_conc', 'intercept', 'beta', 'beta_z', 'beta_p', 'aic',\n",
      "       'pearson_chisq', 'deviance', 'converged', 'ic10', 'ic25', 'ic50',\n",
      "       'ic75', 'ic90', 'auc', 'all_gt_50', 'all_lt_50', 'curve_type',\n",
      "       'AUC_[HM] Hypoxia', 'AUC_[HM] Mitotic spindle',\n",
      "       'AUC_[HM] Wnt beta catenin signaling', 'AUC_[HM] TGF beta signaling',\n",
      "       'AUC_[HM] DNA repair', 'AUC_[HM] G2M checkpoint', 'AUC_[HM] Apoptosis',\n",
      "       'AUC_[HM] Notch signaling', 'AUC_[HM] Hedgehog signaling',\n",
      "       'AUC_[HM] PI3K Akt mTOR signaling', 'AUC_[HM] mTORC1 signaling',\n",
      "       'AUC_[HM] E2F targets', 'AUC_[HM] Epithelial mesenchymal transition',\n",
      "       'AUC_[HM] Oxidative phosphorylation', 'AUC_[HM] Glycolysis',\n",
      "       'AUC_[HM] Reactive oxigen species pathway', 'AUC_[HM] p53 pathway',\n",
      "       'AUC_[HM] UV response up', 'AUC_[HM] UV response down',\n",
      "       'AUC_[HM] Angiogenesis', 'AUC_[HM] KRAS signaling up',\n",
      "       'AUC_[HM] KRAS signaling down', 'AUC_[HM] Myc targets',\n",
      "       'AUC_[HM] Estrogen response', 'AUC_[IPA] ERK MAPK Signaling',\n",
      "       'AUC_[IPA] HMGB1 Signaling', 'AUC_[IPA] ErbB Signaling',\n",
      "       'AUC_[IPA] PTEN Signaling', 'AUC_[IPA] PI3K AKT Signaling',\n",
      "       'AUC_[IPA] HER 2 Signaling in Breast Cancer',\n",
      "       'AUC_[IPA] mTOR Signaling', 'AUC_[IPA] AMPK Signaling',\n",
      "       'AUC_[IPA] p38 MAPK Signaling',\n",
      "       'AUC_[IPA] Myc Mediated Apoptosis Signaling', 'AUC_[IPA] EGF Signaling',\n",
      "       'AUC_[IPA] VEGF Signaling',\n",
      "       'AUC_[IPA] Estrogen Dependent Breast Cancer Signaling',\n",
      "       'AUC_[IPA] TNFR1 Signaling', 'AUC_[IPA] ErbB2 ErbB3 Signaling',\n",
      "       'AUC_[IPA] UVC Induced MAPK Signaling',\n",
      "       'AUC_[IPA] UVA Induced MAPK Signaling',\n",
      "       'AUC_[IPA] UVB Induced MAPK Signaling', 'AUC_[IPA] ERK5 Signaling',\n",
      "       'AUC_[IPA] Mismatch Repair in Eukaryotes',\n",
      "       'AUC_[IPA] Telomere Extension by Telomerase', 'AUC_[TBI] Barrier genes',\n",
      "       'AUC_[TBI] MAPK up genes', 'AUC_[TBI] Phopholipase',\n",
      "       'AUC_[LM] Proliferation', 'AUC_[TPW] PI3Kgamma Signature',\n",
      "       'AUC_[TPW] NOS1 Signature', 'AUC_[TPW] SHC1/pSTAT3 Signature',\n",
      "       'AUC_[TPW] Hypoxia/Adenosine Immune Cell Suppression',\n",
      "       'AUC_[TPW] Immunogenic Cell Death (ICD)'],\n",
      "      dtype='object')\n",
      "Index(['dbgap_rnaseq_sample', 'LASP1', 'HOXA11', 'CREBBP_x', 'ETV1', 'GAS7',\n",
      "       'CD79B', 'BTK', 'BRCA1', 'WAS',\n",
      "       ...\n",
      "       'frameshift_variant', 'missense_variant', 'stop_gained',\n",
      "       'inframe_deletion', 'protein_altering_variant',\n",
      "       'splice_acceptor_variant', 'splice_donor_variant', 'start_lost',\n",
      "       'inframe_insertion', 'stop_lost'],\n",
      "      dtype='object', length=1131)\n"
     ]
    }
   ],
   "source": [
    "#Load the training and test drug, cell combination file\n",
    "train_drug_cell_df = pd.read_csv(\"../Data/Revised_Training_Set_with_IC50.csv.gz\",compression=\"gzip\",header='infer',sep=\"\\t\")\n",
    "test_drug_cell_df = pd.read_csv(\"../Data/Revised_Test_Set_with_IC50.csv.gz\",compression=\"gzip\",header=\"infer\",sep=\"\\t\")\n",
    "print(train_drug_cell_df.shape)\n",
    "print(test_drug_cell_df.shape)\n",
    "print(train_drug_cell_df.columns)\n",
    "\n",
    "#This part of code was not looking at gene expression profiles\n",
    "#rev_train_feature_df = train_feature_df.iloc[:,[0]+[i for i in range(22844,23322)]]\n",
    "#rev_test_feature_df = test_feature_df.iloc[:,[0]+[i for i in range(22844,23322)]]\n",
    "\n",
    "#We now focus on oncogenes, pathway enrichments, module enrichments, mutations in genes, mutation classes\n",
    "rev_train_feature_df = train_feature_df\n",
    "rev_test_feature_df = test_feature_df\n",
    "print(rev_train_feature_df.columns)"
   ]
  },
  {
   "cell_type": "code",
   "execution_count": 5,
   "id": "f1da13d6",
   "metadata": {},
   "outputs": [
    {
     "name": "stdout",
     "output_type": "stream",
     "text": [
      "(34387, 1211)\n",
      "(19184, 1211)\n"
     ]
    }
   ],
   "source": [
    "#Merge the dataframes containing drug-cell info and cell line info df\n",
    "train_drug_cell_feature_df = pd.merge(train_drug_cell_df, rev_train_feature_df, on=\"dbgap_rnaseq_sample\")\n",
    "print(train_drug_cell_feature_df.shape)\n",
    "test_drug_cell_feature_df = pd.merge(test_drug_cell_df, rev_test_feature_df, on=\"dbgap_rnaseq_sample\")\n",
    "print(test_drug_cell_feature_df.shape)"
   ]
  },
  {
   "cell_type": "code",
   "execution_count": 6,
   "id": "28865479",
   "metadata": {},
   "outputs": [
    {
     "name": "stdout",
     "output_type": "stream",
     "text": [
      "(34387, 1472)\n",
      "(19184, 1472)\n"
     ]
    }
   ],
   "source": [
    "#Get the drug embedding representation \n",
    "drug_embed_df = pd.read_csv(\"../Data/Drug_Full_SMILES_Embedding.csv\",header='infer')\n",
    "drug_embed_df.rename(columns={\"Name\":\"inhibitor\"},inplace=True)\n",
    "drug_embed_df.head()\n",
    "\n",
    "#Merge with the drug_cell_feature_df\n",
    "final_train_drug_feature_cell_feature_df = pd.merge(drug_embed_df, train_drug_cell_feature_df, on = \"inhibitor\")\n",
    "print(final_train_drug_feature_cell_feature_df.shape)\n",
    "final_test_drug_feature_cell_feature_df = pd.merge(drug_embed_df, test_drug_cell_feature_df, on = \"inhibitor\")\n",
    "print(final_test_drug_feature_cell_feature_df.shape)\n",
    "\n",
    "#Write the pickle files\n",
    "final_train_drug_feature_cell_feature_df.to_pickle(\"../Data/Training_Set_with_Drug_Embedding_Cell_Info.pkl\", compression=\"zip\")\n",
    "final_test_drug_feature_cell_feature_df.to_pickle(\"../Data/Test_Set_with_Drug_Embedding_Cell_Info.pkl\",compression=\"zip\")"
   ]
  },
  {
   "cell_type": "code",
   "execution_count": 10,
   "id": "4b6e6dcb",
   "metadata": {},
   "outputs": [
    {
     "name": "stdout",
     "output_type": "stream",
     "text": [
      "(34387, 2240)\n",
      "(19184, 2240)\n"
     ]
    }
   ],
   "source": [
    "drug_morgan_df = pd.read_csv(\"../Results/Drugs_file_with_morgan_fps.csv\",header='infer')\n",
    "drug_morgan_df.columns = [\"CID\",\"MolecularWeight\",\"CanonicalSMILES\",\"InChIKey\",\"XlogP\",\"inhibitor\"]+[\"MFP\"+str(i) for i in range(0,1024)]\n",
    "drug_morgan_df.head()\n",
    "\n",
    "#Merge with the drug_cell_feature_df\n",
    "final_train_drug_mfp_cell_feature_df = pd.merge(drug_morgan_df, train_drug_cell_feature_df, on = \"inhibitor\")\n",
    "print(final_train_drug_mfp_cell_feature_df.shape)\n",
    "final_test_drug_mfp_cell_feature_df = pd.merge(drug_morgan_df, test_drug_cell_feature_df, on = \"inhibitor\")\n",
    "print(final_test_drug_mfp_cell_feature_df.shape)\n",
    "\n",
    "#Write the pickle files\n",
    "final_train_drug_mfp_cell_feature_df.to_pickle(\"../Data/Training_Set_with_Drug_MFP_Cell_Info.pkl\",compression=\"zip\")\n",
    "final_test_drug_mfp_cell_feature_df.to_pickle(\"../Data/Test_Set_with_Drug_MFP_Cell_Info.pkl\",compression=\"zip\")"
   ]
  },
  {
   "cell_type": "code",
   "execution_count": null,
   "id": "e35422b7",
   "metadata": {},
   "outputs": [],
   "source": []
  }
 ],
 "metadata": {
  "jupytext": {
   "formats": "ipynb,py:light"
  },
  "kernelspec": {
   "display_name": "Python 3 (ipykernel)",
   "language": "python",
   "name": "python3"
  },
  "language_info": {
   "codemirror_mode": {
    "name": "ipython",
    "version": 3
   },
   "file_extension": ".py",
   "mimetype": "text/x-python",
   "name": "python",
   "nbconvert_exporter": "python",
   "pygments_lexer": "ipython3",
   "version": "3.11.0"
  }
 },
 "nbformat": 4,
 "nbformat_minor": 5
}
