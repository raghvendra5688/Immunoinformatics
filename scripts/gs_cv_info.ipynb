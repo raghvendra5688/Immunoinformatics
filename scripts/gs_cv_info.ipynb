{
 "cells": [
  {
   "cell_type": "code",
   "execution_count": null,
   "id": "306dcec3",
   "metadata": {},
   "outputs": [],
   "source": [
    "import os\n",
    "import pickle\n",
    "import re\n",
    "import pandas as pd\n",
    "import numpy as np\n",
    "import matplotlib.pyplot as plt\n",
    "import seaborn as sn\n",
    "import numpy as np\n",
    "import re \n",
    "\n",
    "import xgboost as xgb\n",
    "from sklearn import ensemble\n",
    "from sklearn import dummy\n",
    "from sklearn import linear_model\n",
    "from sklearn import svm\n",
    "from sklearn import neural_network\n",
    "from sklearn import metrics\n",
    "from sklearn import preprocessing\n",
    "from sklearn.pipeline import make_pipeline\n",
    "from sklearn.model_selection import train_test_split, cross_val_predict, cross_val_score, cross_validate, KFold\n",
    "from sklearn.metrics import make_scorer\n",
    "from sklearn.utils.fixes import loguniform\n",
    "import scipy\n",
    "import argparse\n",
    "\n",
    "from misc import save_model, load_model, regression_results, grid_search_cv\n",
    "plt.rcParams[\"font.family\"] = \"Arial\""
   ]
  },
  {
   "cell_type": "code",
   "execution_count": null,
   "id": "a63be7bf",
   "metadata": {},
   "outputs": [],
   "source": [
    "def calculate_regression_metrics(labels, predictions):\n",
    "    return round(metrics.mean_absolute_error(labels, predictions),3),\\\n",
    "            round(metrics.mean_squared_error(labels, predictions, squared=False),3),\\\n",
    "            round(np.power(scipy.stats.pearsonr(np.array(labels).flatten(),np.array(predictions.flatten()))[0],2),3),\\\n",
    "            round(scipy.stats.pearsonr(np.array(labels).flatten(),np.array(predictions.flatten()))[0],3),\\\n",
    "            round(scipy.stats.spearmanr(np.array(labels).flatten(),np.array(predictions.flatten()))[0],3)"
   ]
  },
  {
   "cell_type": "code",
   "execution_count": null,
   "id": "c6d174f5",
   "metadata": {},
   "outputs": [],
   "source": [
    "def get_CV_results (model, X_train, Y_train, n_splits):\n",
    "    kf = KFold(n_splits=n_splits)\n",
    "    mae_list, rmse_list, r2_list, pr_list, sr_list = [],[],[],[],[]\n",
    "    for train_index, test_index in kf.split(Y_train):\n",
    "        y_pred = model.best_estimator_.predict(X_train.iloc[test_index,:])\n",
    "        results=calculate_regression_metrics(Y_train[test_index],y_pred)\n",
    "        mae_list.append(results[0])\n",
    "        rmse_list.append(results[1])\n",
    "        r2_list.append(results[2])\n",
    "        pr_list.append(results[3])\n",
    "        sr_list.append(results[4])\n",
    "    print(mae_list,rmse_list,r2_list)\n",
    "    mean_mae, sd_mae = round(np.mean(mae_list),3), round(np.std(mae_list),3)\n",
    "    mean_rmse, sd_rmse = round(np.mean(rmse_list),3), round(np.std(rmse_list),3)\n",
    "    mean_r2, sd_r2 = round(np.mean(r2_list),3), round(np.std(r2_list),3)\n",
    "    mean_pr, sd_pr = round(np.mean(pr_list),3), round(np.std(pr_list),3)\n",
    "    mean_sr, sd_sr = round(np.mean(sr_list),3), round(np.std(sr_list),3)\n",
    "    return(mean_mae, sd_mae, mean_rmse, sd_rmse, mean_r2, sd_r2, mean_pr, sd_pr, mean_sr, sd_sr)"
   ]
  },
  {
   "cell_type": "code",
   "execution_count": null,
   "id": "2f02b7a5",
   "metadata": {},
   "outputs": [],
   "source": [
    "#Get the setting with different X_trains and X_tests\n",
    "train_options = [\"../Data/dose_response_with_full_data_inflammasome_with_ls_train.pkl\",\n",
    "                 \"../Data/dose_response_with_full_data_inflammasome_with_mfp_train.pkl\",\n",
    "                 \"..\"]\n",
    "test_options = [\"../Data/dose_response_with_full_data_inflammasome_with_ls_test.pkl\",\n",
    "                \"../Data/dose_response_with_full_data_inflammasome_with_mfp_test.pkl\",\n",
    "                \"..\"]\n",
    "data_type_options = [\"LS_LS\",\"MFP_LS\"]\n",
    "data_information = [('MFP',list(range(510,766))), \n",
    "                    ('Pathway', list(range(0,7))+list(range(503,510))),\n",
    "                    ('Genomics', list(range(7,503))),\n",
    "                    ('Pathway_Genomics',list(range(0,510))),\n",
    "                    ('MFP_Pathway', list(range(0,7))+list(range(503,510))+list(range(510,766))),\n",
    "                    ('MFP_Genomics', list(range(7,503))+list(range(510,766)))]"
   ]
  },
  {
   "cell_type": "code",
   "execution_count": null,
   "id": "74643452",
   "metadata": {},
   "outputs": [],
   "source": [
    "#Choose the options\n",
    "input_option1, input_option2 = 1, 0                                                  #Choose 0 for LS for Drug and LS for Cell Line , 1 for MFP for Drug and LS for Cell Line \n",
    "classification_task = False\n",
    "data_type = data_type_options[input_option1]\n",
    "data_info = data_information[input_option2]\n",
    "\n",
    "#Get the data for your choice: LS or MFP\n",
    "print(\"Loaded training file\")\n",
    "big_train_df = pd.read_pickle(train_options[input_option1],compression=\"zip\")\n",
    "big_test_df = pd.read_pickle(test_options[input_option1],compression=\"zip\")\n",
    "total_length = len(big_train_df.columns)\n",
    "metadata_X_train, X_train, Y_train = big_train_df.loc[:,['ARXSPAN_ID','DRUG_NAME']], big_train_df.iloc[:, range(16,total_length)], big_train_df[\"y_ic50\"].to_numpy().flatten()\n",
    "metadata_X_test, X_test, Y_test = big_test_df.loc[:,['ARXSPAN_ID','DRUG_NAME']], big_test_df.iloc[:,range(16,total_length)], big_test_df[\"y_ic50\"].to_numpy().flatten()"
   ]
  },
  {
   "cell_type": "code",
   "execution_count": null,
   "id": "95cba1ef",
   "metadata": {},
   "outputs": [],
   "source": [
    "#LR model\n",
    "lr_gs = load_model(\"../Models/lr_models/lr_\"+data_type+\"_regressor_gs.pk\")\n",
    "scaler = load_model(\"../Models/lr_models/lr_\"+data_type+\"_scaling_gs.pk\")\n",
    "X_train_copy = pd.DataFrame(scaler.transform(X_train))\n",
    "lr_out = get_CV_results(lr_gs, X_train_copy, Y_train, n_splits=5)\n",
    "print(lr_out)"
   ]
  },
  {
   "cell_type": "code",
   "execution_count": null,
   "id": "cd228733",
   "metadata": {},
   "outputs": [],
   "source": [
    "#GLR Model (MFP + LS), (LS + LS)\n",
    "glr_gs = load_model(\"../Models/glr_models/glr_\"+data_type+\"_regressor_gs.pk\")\n",
    "scaler = load_model(\"../Models/glr_models/glr_\"+data_type+\"_scaling_gs.pk\")\n",
    "X_train_copy = pd.DataFrame(scaler.transform(X_train))\n",
    "glr_out = get_CV_results(glr_gs, X_train_copy, Y_train, n_splits=5)\n",
    "print(glr_out)"
   ]
  },
  {
   "cell_type": "code",
   "execution_count": null,
   "id": "78d48d6d",
   "metadata": {},
   "outputs": [],
   "source": [
    "#SVM Model\n",
    "svr_gs = load_model(\"../Models/svr_models/svr_\"+data_type+\"_regressor_gs.pk\")\n",
    "scaler = load_model(\"../Models/svr_models/svr_\"+data_type+\"_scaling_gs.pk\")\n",
    "X_train_copy = pd.DataFrame(scaler.transform(X_train))\n",
    "svr_out = get_CV_results(svr_gs, X_train_copy, Y_train, n_splits=5)\n",
    "print(svr_out)"
   ]
  },
  {
   "cell_type": "code",
   "execution_count": null,
   "id": "ec023277",
   "metadata": {},
   "outputs": [],
   "source": [
    "#RF Model\n",
    "rf_gs = load_model(\"../Models/rf_models/rf_\"+data_type+\"_regressor_gs.pk\")\n",
    "rf_out = get_CV_results(rf_gs, X_train, Y_train, n_splits=5)\n",
    "print(rf_out)"
   ]
  },
  {
   "cell_type": "code",
   "execution_count": null,
   "id": "858e5783",
   "metadata": {},
   "outputs": [],
   "source": [
    "#DNN Model\n",
    "nn_gs = load_model(\"nn_models/nn_\"+data_type+\"_regressor_gs.pk\")\n",
    "scaler = load_model(\"nn_models/nn_\"+data_type+\"_scaling_gs.pk\")\n",
    "X_train_copy = pd.DataFrame(scaler.transform(X_train))\n",
    "nn_out = get_CV_results(nn_gs, X_train_copy, Y_train, n_splits=5)\n",
    "print(nn_out)"
   ]
  },
  {
   "cell_type": "code",
   "execution_count": null,
   "id": "ce52fbbe",
   "metadata": {},
   "outputs": [],
   "source": [
    "#For xgboost model we need to remove brackets from column names\n",
    "model=\"xgboost\"\n",
    "if (model==\"xgboost\" or model==\"lgbm\"):\n",
    "    X_train.columns = X_train.columns.str.replace('[','')\n",
    "    X_train.columns = X_train.columns.str.replace(']','')\n",
    "    X_test.columns = X_test.columns.str.replace('[','')\n",
    "    X_test.columns = X_test.columns.str.replace(']','')\n",
    "    \n",
    "#XGB Model\n",
    "xgb_gs = load_model(\"../Models/xgb_models/xgb_\"+data_type+\"_regressor_gs.pk\")\n",
    "xgb_out = get_CV_results(xgb_gs, X_train, Y_train, n_splits=5)\n",
    "print(xgb_out)"
   ]
  },
  {
   "cell_type": "code",
   "execution_count": null,
   "id": "badba775",
   "metadata": {},
   "outputs": [],
   "source": [
    "#LGBM Model\n",
    "lgbm_gs = load_model(\"../Models/lgbm_models/lgbm_\"+data_type+\"_regressor_gs.pk\")\n",
    "lgbm_out = get_CV_results(lgbm_gs, X_train, Y_train, n_splits=5)\n",
    "print(lgbm_out)"
   ]
  },
  {
   "cell_type": "code",
   "execution_count": null,
   "id": "27b45c43",
   "metadata": {},
   "outputs": [],
   "source": [
    "#Perform CV for XGB ablation study\n",
    "rev_X_train = X_train.iloc[:,data_info[1]]\n",
    "rev_X_test = X_test.iloc[:,data_info[1]]\n",
    "ab_xgb_gs = load_model(\"../Models/xgb_models/xgb_\"+data_info[0]+\"_regressor_gs.pk\")\n",
    "ab_xgb_out = get_CV_results(ab_xgb_gs, rev_X_train, Y_train, n_splits=5)\n",
    "print(ab_xgb_out)"
   ]
  },
  {
   "cell_type": "code",
   "execution_count": null,
   "id": "43fd8d92",
   "metadata": {},
   "outputs": [],
   "source": []
  }
 ],
 "metadata": {
  "jupytext": {
   "formats": "auto:light,ipynb"
  },
  "kernelspec": {
   "display_name": "Python 3 (ipykernel)",
   "language": "python",
   "name": "python3"
  },
  "language_info": {
   "codemirror_mode": {
    "name": "ipython",
    "version": 3
   },
   "file_extension": ".py",
   "mimetype": "text/x-python",
   "name": "python",
   "nbconvert_exporter": "python",
   "pygments_lexer": "ipython3",
   "version": "3.11.0"
  }
 },
 "nbformat": 4,
 "nbformat_minor": 5
}
